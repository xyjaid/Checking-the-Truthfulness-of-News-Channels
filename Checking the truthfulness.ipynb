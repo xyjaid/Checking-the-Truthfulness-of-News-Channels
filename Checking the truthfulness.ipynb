{
  "cells": [
    {
      "cell_type": "markdown",
      "metadata": {
        "id": "vtRvDhV4t5lO"
      },
      "source": [
        "Data preprocessing stage\n"
      ]
    },
    {
      "cell_type": "code",
      "execution_count": null,
      "metadata": {
        "id": "LQYjewAIM8DH"
      },
      "outputs": [],
      "source": [
        "channels = ['ndtv', 'indiatoday', 'wion']\n",
        "data = {}\n",
        "\n",
        "for c in (channels):\n",
        "  with open(\"/content/\" + c + \".txt\", \"rb\") as file:\n",
        "    data[c] = [file.read().decode(\"utf-8\") ]\n",
        ""
      ]
    },
    {
      "cell_type": "code",
      "execution_count": null,
      "metadata": {
        "colab": {
          "base_uri": "https://localhost:8080/",
          "height": 143
        },
        "id": "NwGwcegkNMT8",
        "outputId": "cc0c1157-fb91-4ee6-f00e-ffcc6778ca53"
      },
      "outputs": [
        {
          "data": {
            "text/html": [
              "\n",
              "  <div id=\"df-6610b720-8544-46ce-b0fe-2184cfbb6b1a\">\n",
              "    <div class=\"colab-df-container\">\n",
              "      <div>\n",
              "<style scoped>\n",
              "    .dataframe tbody tr th:only-of-type {\n",
              "        vertical-align: middle;\n",
              "    }\n",
              "\n",
              "    .dataframe tbody tr th {\n",
              "        vertical-align: top;\n",
              "    }\n",
              "\n",
              "    .dataframe thead th {\n",
              "        text-align: right;\n",
              "    }\n",
              "</style>\n",
              "<table border=\"1\" class=\"dataframe\">\n",
              "  <thead>\n",
              "    <tr style=\"text-align: right;\">\n",
              "      <th></th>\n",
              "      <th>transcript</th>\n",
              "    </tr>\n",
              "  </thead>\n",
              "  <tbody>\n",
              "    <tr>\n",
              "      <th>indiatoday</th>\n",
              "      <td>okay we're getting in some news that\\r\\nthere are reports that suggest J\\r\\nlalita's health to be worsening now\\r\\naccording to two tunnel channel...</td>\n",
              "    </tr>\n",
              "    <tr>\n",
              "      <th>ndtv</th>\n",
              "      <td>now last week a minister from Tamilnadu\\r\\nconfessed that he and his colleagues\\r\\nlied about gelas health none saw her but\\r\\nthey said they spen...</td>\n",
              "    </tr>\n",
              "    <tr>\n",
              "      <th>wion</th>\n",
              "      <td>[Music]\\r\\n\\r\\nhe was coming in from in there in the\\r\\n\\r\\nstate of Tamil Nadu where Chief Minister\\r\\n\\r\\nI Palani saw me and said that Inquiry\\...</td>\n",
              "    </tr>\n",
              "  </tbody>\n",
              "</table>\n",
              "</div>\n",
              "      <button class=\"colab-df-convert\" onclick=\"convertToInteractive('df-6610b720-8544-46ce-b0fe-2184cfbb6b1a')\"\n",
              "              title=\"Convert this dataframe to an interactive table.\"\n",
              "              style=\"display:none;\">\n",
              "        \n",
              "  <svg xmlns=\"http://www.w3.org/2000/svg\" height=\"24px\"viewBox=\"0 0 24 24\"\n",
              "       width=\"24px\">\n",
              "    <path d=\"M0 0h24v24H0V0z\" fill=\"none\"/>\n",
              "    <path d=\"M18.56 5.44l.94 2.06.94-2.06 2.06-.94-2.06-.94-.94-2.06-.94 2.06-2.06.94zm-11 1L8.5 8.5l.94-2.06 2.06-.94-2.06-.94L8.5 2.5l-.94 2.06-2.06.94zm10 10l.94 2.06.94-2.06 2.06-.94-2.06-.94-.94-2.06-.94 2.06-2.06.94z\"/><path d=\"M17.41 7.96l-1.37-1.37c-.4-.4-.92-.59-1.43-.59-.52 0-1.04.2-1.43.59L10.3 9.45l-7.72 7.72c-.78.78-.78 2.05 0 2.83L4 21.41c.39.39.9.59 1.41.59.51 0 1.02-.2 1.41-.59l7.78-7.78 2.81-2.81c.8-.78.8-2.07 0-2.86zM5.41 20L4 18.59l7.72-7.72 1.47 1.35L5.41 20z\"/>\n",
              "  </svg>\n",
              "      </button>\n",
              "      \n",
              "  <style>\n",
              "    .colab-df-container {\n",
              "      display:flex;\n",
              "      flex-wrap:wrap;\n",
              "      gap: 12px;\n",
              "    }\n",
              "\n",
              "    .colab-df-convert {\n",
              "      background-color: #E8F0FE;\n",
              "      border: none;\n",
              "      border-radius: 50%;\n",
              "      cursor: pointer;\n",
              "      display: none;\n",
              "      fill: #1967D2;\n",
              "      height: 32px;\n",
              "      padding: 0 0 0 0;\n",
              "      width: 32px;\n",
              "    }\n",
              "\n",
              "    .colab-df-convert:hover {\n",
              "      background-color: #E2EBFA;\n",
              "      box-shadow: 0px 1px 2px rgba(60, 64, 67, 0.3), 0px 1px 3px 1px rgba(60, 64, 67, 0.15);\n",
              "      fill: #174EA6;\n",
              "    }\n",
              "\n",
              "    [theme=dark] .colab-df-convert {\n",
              "      background-color: #3B4455;\n",
              "      fill: #D2E3FC;\n",
              "    }\n",
              "\n",
              "    [theme=dark] .colab-df-convert:hover {\n",
              "      background-color: #434B5C;\n",
              "      box-shadow: 0px 1px 3px 1px rgba(0, 0, 0, 0.15);\n",
              "      filter: drop-shadow(0px 1px 2px rgba(0, 0, 0, 0.3));\n",
              "      fill: #FFFFFF;\n",
              "    }\n",
              "  </style>\n",
              "\n",
              "      <script>\n",
              "        const buttonEl =\n",
              "          document.querySelector('#df-6610b720-8544-46ce-b0fe-2184cfbb6b1a button.colab-df-convert');\n",
              "        buttonEl.style.display =\n",
              "          google.colab.kernel.accessAllowed ? 'block' : 'none';\n",
              "\n",
              "        async function convertToInteractive(key) {\n",
              "          const element = document.querySelector('#df-6610b720-8544-46ce-b0fe-2184cfbb6b1a');\n",
              "          const dataTable =\n",
              "            await google.colab.kernel.invokeFunction('convertToInteractive',\n",
              "                                                     [key], {});\n",
              "          if (!dataTable) return;\n",
              "\n",
              "          const docLinkHtml = 'Like what you see? Visit the ' +\n",
              "            '<a target=\"_blank\" href=https://colab.research.google.com/notebooks/data_table.ipynb>data table notebook</a>'\n",
              "            + ' to learn more about interactive tables.';\n",
              "          element.innerHTML = '';\n",
              "          dataTable['output_type'] = 'display_data';\n",
              "          await google.colab.output.renderOutput(dataTable, element);\n",
              "          const docLink = document.createElement('div');\n",
              "          docLink.innerHTML = docLinkHtml;\n",
              "          element.appendChild(docLink);\n",
              "        }\n",
              "      </script>\n",
              "    </div>\n",
              "  </div>\n",
              "  "
            ],
            "text/plain": [
              "                                                                                                                                                       transcript\n",
              "indiatoday  okay we're getting in some news that\\r\\nthere are reports that suggest J\\r\\nlalita's health to be worsening now\\r\\naccording to two tunnel channel...\n",
              "ndtv        now last week a minister from Tamilnadu\\r\\nconfessed that he and his colleagues\\r\\nlied about gelas health none saw her but\\r\\nthey said they spen...\n",
              "wion        [Music]\\r\\n\\r\\nhe was coming in from in there in the\\r\\n\\r\\nstate of Tamil Nadu where Chief Minister\\r\\n\\r\\nI Palani saw me and said that Inquiry\\..."
            ]
          },
          "execution_count": 2,
          "metadata": {},
          "output_type": "execute_result"
        }
      ],
      "source": [
        "import pandas as pd\n",
        "pd.set_option('max_colwidth',150)\n",
        "data_df = pd.DataFrame.from_dict(data).transpose()\n",
        "data_df.columns = ['transcript']\n",
        "data_df = data_df.sort_index()\n",
        "data_df"
      ]
    },
    {
      "cell_type": "code",
      "execution_count": null,
      "metadata": {
        "colab": {
          "base_uri": "https://localhost:8080/",
          "height": 139
        },
        "id": "--MxF6-yNSOa",
        "outputId": "a53d3b89-f7ec-4e2f-90de-b2465330f0db"
      },
      "outputs": [
        {
          "data": {
            "application/vnd.google.colaboratory.intrinsic+json": {
              "type": "string"
            },
            "text/plain": [
              "\"now last week a minister from Tamilnadu\\r\\nconfessed that he and his colleagues\\r\\nlied about gelas health none saw her but\\r\\nthey said they spent stories that she\\r\\nate atleast in hospital and was\\r\\nrecovering now another minister says he\\r\\ndid see her\\r\\nI made these conflicting claims over\\r\\nJoella littles death who mystery the\\r\\nstate government has announced that a\\r\\none-man committee has been appointed and\\r\\nwill be probing the circumstances\\r\\nleading to jll it has hospitalization\\r\\nand death and annual reports one year\\r\\nafter Jirga Lita was admitted to\\r\\nChennai's up in the hospital a bizarre\\r\\ncontroversy first Tamil Nadu forest\\r\\nminister said no cabinet colleague or\\r\\nvisiting dignitary saw gerrera leta in\\r\\nhospital the textiles minister had\\r\\nendorsed that now cooperatives minister\\r\\nseller Raju says that's not true he had\\r\\nmet her and so had others na mano a\\r\\nMarley party lammeter important\\r\\nministers Srinivasan and we Ramana say\\r\\nthey had been scared of cicala who had\\r\\nat that time no official position in the\\r\\ngovernment or party and had they for\\r\\nparotid a line that join Rita's health\\r\\nwas improving and that she even ate\\r\\nItaly at the up low hospital the delica\\r\\ncan't points out that it was o-p-s who\\r\\nwas virtual second-in-command at that\\r\\ntime the nekron has claimed that\\r\\nfascicular had filmed joy Mallika when\\r\\nshe was recovering\\r\\nbut did not make it public as the late\\r\\nChief Minister did not want people to\\r\\nsee pictures of her in hospital robes on\\r\\nnight where DMK leader MK Stalin is not\\r\\nsatisfied with a probe into jail Aleta's\\r\\ndeath by retried justice Armiger Swamy\\r\\nhe wants the CBI to unravel the truth\\r\\nwho saw and who did not see joy lolita\\r\\nat hospital remains a mystery the\\r\\ncontradictory statements were ministers\\r\\nthat could indicate their loyalty to EPA\\r\\nsocial security has dented the\\r\\ncredibility of Chief Minister eight\\r\\npieces cabinet in Chennai with\\r\\ncameraperson Sukumar Sam Daniel find a\\r\\nTV\\r\\nyou\\r\\n\""
            ]
          },
          "execution_count": 3,
          "metadata": {},
          "output_type": "execute_result"
        }
      ],
      "source": [
        "data_df.transcript.loc['ndtv']"
      ]
    },
    {
      "cell_type": "code",
      "execution_count": null,
      "metadata": {
        "id": "oaOxJibsNUnT"
      },
      "outputs": [],
      "source": [
        "import re\n",
        "import string\n",
        "def clean_text_round1(text):\n",
        "  text = text.lower()\n",
        "  text = re.sub('\\[.*?\\]', '', text)\n",
        "  text = re.sub('[%s]' % re.escape(string.punctuation), '',text)\n",
        "  text = re.sub('\\w*\\d\\w*', '', text)\n",
        "  return text"
      ]
    },
    {
      "cell_type": "code",
      "execution_count": null,
      "metadata": {
        "id": "ytRI9JFeNit4"
      },
      "outputs": [],
      "source": [
        "round1 = lambda x: clean_text_round1(x)\n",
        "data_clean = pd.DataFrame(data_df.transcript.apply(round1))"
      ]
    },
    {
      "cell_type": "code",
      "execution_count": null,
      "metadata": {
        "id": "qc7GDklsNmrQ"
      },
      "outputs": [],
      "source": [
        "def clean_text_round2(text):\n",
        "  text = re.sub('[‘’“”...]', '', text)\n",
        "  text = re.sub('\\n', '', text)\n",
        "  return text"
      ]
    },
    {
      "cell_type": "code",
      "execution_count": null,
      "metadata": {
        "id": "HcDs3QF5Nu7W"
      },
      "outputs": [],
      "source": [
        "round2 = lambda x: clean_text_round2(x)\n",
        "data_clean = pd.DataFrame(data_clean.transcript.apply(round2))\n",
        "data_df.to_pickle(\"corpus.pkl\")\n"
      ]
    },
    {
      "cell_type": "code",
      "execution_count": null,
      "metadata": {
        "colab": {
          "base_uri": "https://localhost:8080/",
          "height": 236
        },
        "id": "WFqyBt2bNyNW",
        "outputId": "9967b23d-25fb-45e8-a5b0-948ceff3286d"
      },
      "outputs": [
        {
          "data": {
            "text/html": [
              "\n",
              "  <div id=\"df-72caae07-68d0-471e-8e43-a842a396cc38\">\n",
              "    <div class=\"colab-df-container\">\n",
              "      <div>\n",
              "<style scoped>\n",
              "    .dataframe tbody tr th:only-of-type {\n",
              "        vertical-align: middle;\n",
              "    }\n",
              "\n",
              "    .dataframe tbody tr th {\n",
              "        vertical-align: top;\n",
              "    }\n",
              "\n",
              "    .dataframe thead th {\n",
              "        text-align: right;\n",
              "    }\n",
              "</style>\n",
              "<table border=\"1\" class=\"dataframe\">\n",
              "  <thead>\n",
              "    <tr style=\"text-align: right;\">\n",
              "      <th></th>\n",
              "      <th>able</th>\n",
              "      <th>absolutely</th>\n",
              "      <th>abstraction</th>\n",
              "      <th>according</th>\n",
              "      <th>accurate</th>\n",
              "      <th>achievement</th>\n",
              "      <th>actually</th>\n",
              "      <th>add</th>\n",
              "      <th>admitted</th>\n",
              "      <th>afraid</th>\n",
              "      <th>...</th>\n",
              "      <th>world</th>\n",
              "      <th>worse</th>\n",
              "      <th>worsened</th>\n",
              "      <th>worsening</th>\n",
              "      <th>worst</th>\n",
              "      <th>wrong</th>\n",
              "      <th>yeah</th>\n",
              "      <th>year</th>\n",
              "      <th>yes</th>\n",
              "      <th>youre</th>\n",
              "    </tr>\n",
              "  </thead>\n",
              "  <tbody>\n",
              "    <tr>\n",
              "      <th>indiatoday</th>\n",
              "      <td>2</td>\n",
              "      <td>3</td>\n",
              "      <td>0</td>\n",
              "      <td>2</td>\n",
              "      <td>1</td>\n",
              "      <td>0</td>\n",
              "      <td>6</td>\n",
              "      <td>1</td>\n",
              "      <td>0</td>\n",
              "      <td>1</td>\n",
              "      <td>...</td>\n",
              "      <td>1</td>\n",
              "      <td>1</td>\n",
              "      <td>1</td>\n",
              "      <td>1</td>\n",
              "      <td>2</td>\n",
              "      <td>2</td>\n",
              "      <td>1</td>\n",
              "      <td>0</td>\n",
              "      <td>2</td>\n",
              "      <td>1</td>\n",
              "    </tr>\n",
              "    <tr>\n",
              "      <th>ndtv</th>\n",
              "      <td>0</td>\n",
              "      <td>0</td>\n",
              "      <td>0</td>\n",
              "      <td>0</td>\n",
              "      <td>0</td>\n",
              "      <td>0</td>\n",
              "      <td>0</td>\n",
              "      <td>0</td>\n",
              "      <td>1</td>\n",
              "      <td>0</td>\n",
              "      <td>...</td>\n",
              "      <td>0</td>\n",
              "      <td>0</td>\n",
              "      <td>0</td>\n",
              "      <td>0</td>\n",
              "      <td>0</td>\n",
              "      <td>0</td>\n",
              "      <td>0</td>\n",
              "      <td>1</td>\n",
              "      <td>0</td>\n",
              "      <td>0</td>\n",
              "    </tr>\n",
              "    <tr>\n",
              "      <th>wion</th>\n",
              "      <td>0</td>\n",
              "      <td>0</td>\n",
              "      <td>1</td>\n",
              "      <td>0</td>\n",
              "      <td>0</td>\n",
              "      <td>1</td>\n",
              "      <td>0</td>\n",
              "      <td>0</td>\n",
              "      <td>0</td>\n",
              "      <td>0</td>\n",
              "      <td>...</td>\n",
              "      <td>0</td>\n",
              "      <td>0</td>\n",
              "      <td>0</td>\n",
              "      <td>0</td>\n",
              "      <td>0</td>\n",
              "      <td>0</td>\n",
              "      <td>0</td>\n",
              "      <td>0</td>\n",
              "      <td>0</td>\n",
              "      <td>0</td>\n",
              "    </tr>\n",
              "  </tbody>\n",
              "</table>\n",
              "<p>3 rows × 583 columns</p>\n",
              "</div>\n",
              "      <button class=\"colab-df-convert\" onclick=\"convertToInteractive('df-72caae07-68d0-471e-8e43-a842a396cc38')\"\n",
              "              title=\"Convert this dataframe to an interactive table.\"\n",
              "              style=\"display:none;\">\n",
              "        \n",
              "  <svg xmlns=\"http://www.w3.org/2000/svg\" height=\"24px\"viewBox=\"0 0 24 24\"\n",
              "       width=\"24px\">\n",
              "    <path d=\"M0 0h24v24H0V0z\" fill=\"none\"/>\n",
              "    <path d=\"M18.56 5.44l.94 2.06.94-2.06 2.06-.94-2.06-.94-.94-2.06-.94 2.06-2.06.94zm-11 1L8.5 8.5l.94-2.06 2.06-.94-2.06-.94L8.5 2.5l-.94 2.06-2.06.94zm10 10l.94 2.06.94-2.06 2.06-.94-2.06-.94-.94-2.06-.94 2.06-2.06.94z\"/><path d=\"M17.41 7.96l-1.37-1.37c-.4-.4-.92-.59-1.43-.59-.52 0-1.04.2-1.43.59L10.3 9.45l-7.72 7.72c-.78.78-.78 2.05 0 2.83L4 21.41c.39.39.9.59 1.41.59.51 0 1.02-.2 1.41-.59l7.78-7.78 2.81-2.81c.8-.78.8-2.07 0-2.86zM5.41 20L4 18.59l7.72-7.72 1.47 1.35L5.41 20z\"/>\n",
              "  </svg>\n",
              "      </button>\n",
              "      \n",
              "  <style>\n",
              "    .colab-df-container {\n",
              "      display:flex;\n",
              "      flex-wrap:wrap;\n",
              "      gap: 12px;\n",
              "    }\n",
              "\n",
              "    .colab-df-convert {\n",
              "      background-color: #E8F0FE;\n",
              "      border: none;\n",
              "      border-radius: 50%;\n",
              "      cursor: pointer;\n",
              "      display: none;\n",
              "      fill: #1967D2;\n",
              "      height: 32px;\n",
              "      padding: 0 0 0 0;\n",
              "      width: 32px;\n",
              "    }\n",
              "\n",
              "    .colab-df-convert:hover {\n",
              "      background-color: #E2EBFA;\n",
              "      box-shadow: 0px 1px 2px rgba(60, 64, 67, 0.3), 0px 1px 3px 1px rgba(60, 64, 67, 0.15);\n",
              "      fill: #174EA6;\n",
              "    }\n",
              "\n",
              "    [theme=dark] .colab-df-convert {\n",
              "      background-color: #3B4455;\n",
              "      fill: #D2E3FC;\n",
              "    }\n",
              "\n",
              "    [theme=dark] .colab-df-convert:hover {\n",
              "      background-color: #434B5C;\n",
              "      box-shadow: 0px 1px 3px 1px rgba(0, 0, 0, 0.15);\n",
              "      filter: drop-shadow(0px 1px 2px rgba(0, 0, 0, 0.3));\n",
              "      fill: #FFFFFF;\n",
              "    }\n",
              "  </style>\n",
              "\n",
              "      <script>\n",
              "        const buttonEl =\n",
              "          document.querySelector('#df-72caae07-68d0-471e-8e43-a842a396cc38 button.colab-df-convert');\n",
              "        buttonEl.style.display =\n",
              "          google.colab.kernel.accessAllowed ? 'block' : 'none';\n",
              "\n",
              "        async function convertToInteractive(key) {\n",
              "          const element = document.querySelector('#df-72caae07-68d0-471e-8e43-a842a396cc38');\n",
              "          const dataTable =\n",
              "            await google.colab.kernel.invokeFunction('convertToInteractive',\n",
              "                                                     [key], {});\n",
              "          if (!dataTable) return;\n",
              "\n",
              "          const docLinkHtml = 'Like what you see? Visit the ' +\n",
              "            '<a target=\"_blank\" href=https://colab.research.google.com/notebooks/data_table.ipynb>data table notebook</a>'\n",
              "            + ' to learn more about interactive tables.';\n",
              "          element.innerHTML = '';\n",
              "          dataTable['output_type'] = 'display_data';\n",
              "          await google.colab.output.renderOutput(dataTable, element);\n",
              "          const docLink = document.createElement('div');\n",
              "          docLink.innerHTML = docLinkHtml;\n",
              "          element.appendChild(docLink);\n",
              "        }\n",
              "      </script>\n",
              "    </div>\n",
              "  </div>\n",
              "  "
            ],
            "text/plain": [
              "            able  absolutely  abstraction  according  accurate  achievement  \\\n",
              "indiatoday     2           3            0          2         1            0   \n",
              "ndtv           0           0            0          0         0            0   \n",
              "wion           0           0            1          0         0            1   \n",
              "\n",
              "            actually  add  admitted  afraid  ...  world  worse  worsened  \\\n",
              "indiatoday         6    1         0       1  ...      1      1         1   \n",
              "ndtv               0    0         1       0  ...      0      0         0   \n",
              "wion               0    0         0       0  ...      0      0         0   \n",
              "\n",
              "            worsening  worst  wrong  yeah  year  yes  youre  \n",
              "indiatoday          1      2      2     1     0    2      1  \n",
              "ndtv                0      0      0     0     1    0      0  \n",
              "wion                0      0      0     0     0    0      0  \n",
              "\n",
              "[3 rows x 583 columns]"
            ]
          },
          "execution_count": 8,
          "metadata": {},
          "output_type": "execute_result"
        }
      ],
      "source": [
        "from sklearn.feature_extraction.text import CountVectorizer\n",
        "cv = CountVectorizer(stop_words='english')\n",
        "data_cv = cv.fit_transform(data_clean.transcript)\n",
        "data_dtm = pd.DataFrame(data_cv.toarray(),\n",
        "columns=cv.get_feature_names_out())\n",
        "data_dtm.index = data_clean.index\n",
        "data_dtm"
      ]
    },
    {
      "cell_type": "code",
      "execution_count": null,
      "metadata": {
        "id": "3f8yJXk1N2EF"
      },
      "outputs": [],
      "source": [
        "import pickle\n",
        "data_dtm.to_pickle(\"dtm.pkl\")\n",
        "data_clean.to_pickle('data_clean.pkl')\n",
        "pickle.dump(cv, open(\"cv.pkl\", \"wb\"))"
      ]
    },
    {
      "cell_type": "code",
      "execution_count": null,
      "metadata": {
        "colab": {
          "base_uri": "https://localhost:8080/",
          "height": 206
        },
        "id": "_FtqHJ-iO5FR",
        "outputId": "f64edae7-af0b-4046-8bb6-8052ca8aa0a3"
      },
      "outputs": [
        {
          "data": {
            "text/html": [
              "\n",
              "  <div id=\"df-2eefcc09-3ce6-46cb-b4c1-107d46e62df8\">\n",
              "    <div class=\"colab-df-container\">\n",
              "      <div>\n",
              "<style scoped>\n",
              "    .dataframe tbody tr th:only-of-type {\n",
              "        vertical-align: middle;\n",
              "    }\n",
              "\n",
              "    .dataframe tbody tr th {\n",
              "        vertical-align: top;\n",
              "    }\n",
              "\n",
              "    .dataframe thead th {\n",
              "        text-align: right;\n",
              "    }\n",
              "</style>\n",
              "<table border=\"1\" class=\"dataframe\">\n",
              "  <thead>\n",
              "    <tr style=\"text-align: right;\">\n",
              "      <th></th>\n",
              "      <th>indiatoday</th>\n",
              "      <th>ndtv</th>\n",
              "      <th>wion</th>\n",
              "    </tr>\n",
              "  </thead>\n",
              "  <tbody>\n",
              "    <tr>\n",
              "      <th>able</th>\n",
              "      <td>2</td>\n",
              "      <td>0</td>\n",
              "      <td>0</td>\n",
              "    </tr>\n",
              "    <tr>\n",
              "      <th>absolutely</th>\n",
              "      <td>3</td>\n",
              "      <td>0</td>\n",
              "      <td>0</td>\n",
              "    </tr>\n",
              "    <tr>\n",
              "      <th>abstraction</th>\n",
              "      <td>0</td>\n",
              "      <td>0</td>\n",
              "      <td>1</td>\n",
              "    </tr>\n",
              "    <tr>\n",
              "      <th>according</th>\n",
              "      <td>2</td>\n",
              "      <td>0</td>\n",
              "      <td>0</td>\n",
              "    </tr>\n",
              "    <tr>\n",
              "      <th>accurate</th>\n",
              "      <td>1</td>\n",
              "      <td>0</td>\n",
              "      <td>0</td>\n",
              "    </tr>\n",
              "  </tbody>\n",
              "</table>\n",
              "</div>\n",
              "      <button class=\"colab-df-convert\" onclick=\"convertToInteractive('df-2eefcc09-3ce6-46cb-b4c1-107d46e62df8')\"\n",
              "              title=\"Convert this dataframe to an interactive table.\"\n",
              "              style=\"display:none;\">\n",
              "        \n",
              "  <svg xmlns=\"http://www.w3.org/2000/svg\" height=\"24px\"viewBox=\"0 0 24 24\"\n",
              "       width=\"24px\">\n",
              "    <path d=\"M0 0h24v24H0V0z\" fill=\"none\"/>\n",
              "    <path d=\"M18.56 5.44l.94 2.06.94-2.06 2.06-.94-2.06-.94-.94-2.06-.94 2.06-2.06.94zm-11 1L8.5 8.5l.94-2.06 2.06-.94-2.06-.94L8.5 2.5l-.94 2.06-2.06.94zm10 10l.94 2.06.94-2.06 2.06-.94-2.06-.94-.94-2.06-.94 2.06-2.06.94z\"/><path d=\"M17.41 7.96l-1.37-1.37c-.4-.4-.92-.59-1.43-.59-.52 0-1.04.2-1.43.59L10.3 9.45l-7.72 7.72c-.78.78-.78 2.05 0 2.83L4 21.41c.39.39.9.59 1.41.59.51 0 1.02-.2 1.41-.59l7.78-7.78 2.81-2.81c.8-.78.8-2.07 0-2.86zM5.41 20L4 18.59l7.72-7.72 1.47 1.35L5.41 20z\"/>\n",
              "  </svg>\n",
              "      </button>\n",
              "      \n",
              "  <style>\n",
              "    .colab-df-container {\n",
              "      display:flex;\n",
              "      flex-wrap:wrap;\n",
              "      gap: 12px;\n",
              "    }\n",
              "\n",
              "    .colab-df-convert {\n",
              "      background-color: #E8F0FE;\n",
              "      border: none;\n",
              "      border-radius: 50%;\n",
              "      cursor: pointer;\n",
              "      display: none;\n",
              "      fill: #1967D2;\n",
              "      height: 32px;\n",
              "      padding: 0 0 0 0;\n",
              "      width: 32px;\n",
              "    }\n",
              "\n",
              "    .colab-df-convert:hover {\n",
              "      background-color: #E2EBFA;\n",
              "      box-shadow: 0px 1px 2px rgba(60, 64, 67, 0.3), 0px 1px 3px 1px rgba(60, 64, 67, 0.15);\n",
              "      fill: #174EA6;\n",
              "    }\n",
              "\n",
              "    [theme=dark] .colab-df-convert {\n",
              "      background-color: #3B4455;\n",
              "      fill: #D2E3FC;\n",
              "    }\n",
              "\n",
              "    [theme=dark] .colab-df-convert:hover {\n",
              "      background-color: #434B5C;\n",
              "      box-shadow: 0px 1px 3px 1px rgba(0, 0, 0, 0.15);\n",
              "      filter: drop-shadow(0px 1px 2px rgba(0, 0, 0, 0.3));\n",
              "      fill: #FFFFFF;\n",
              "    }\n",
              "  </style>\n",
              "\n",
              "      <script>\n",
              "        const buttonEl =\n",
              "          document.querySelector('#df-2eefcc09-3ce6-46cb-b4c1-107d46e62df8 button.colab-df-convert');\n",
              "        buttonEl.style.display =\n",
              "          google.colab.kernel.accessAllowed ? 'block' : 'none';\n",
              "\n",
              "        async function convertToInteractive(key) {\n",
              "          const element = document.querySelector('#df-2eefcc09-3ce6-46cb-b4c1-107d46e62df8');\n",
              "          const dataTable =\n",
              "            await google.colab.kernel.invokeFunction('convertToInteractive',\n",
              "                                                     [key], {});\n",
              "          if (!dataTable) return;\n",
              "\n",
              "          const docLinkHtml = 'Like what you see? Visit the ' +\n",
              "            '<a target=\"_blank\" href=https://colab.research.google.com/notebooks/data_table.ipynb>data table notebook</a>'\n",
              "            + ' to learn more about interactive tables.';\n",
              "          element.innerHTML = '';\n",
              "          dataTable['output_type'] = 'display_data';\n",
              "          await google.colab.output.renderOutput(dataTable, element);\n",
              "          const docLink = document.createElement('div');\n",
              "          docLink.innerHTML = docLinkHtml;\n",
              "          element.appendChild(docLink);\n",
              "        }\n",
              "      </script>\n",
              "    </div>\n",
              "  </div>\n",
              "  "
            ],
            "text/plain": [
              "             indiatoday  ndtv  wion\n",
              "able                  2     0     0\n",
              "absolutely            3     0     0\n",
              "abstraction           0     0     1\n",
              "according             2     0     0\n",
              "accurate              1     0     0"
            ]
          },
          "execution_count": 10,
          "metadata": {},
          "output_type": "execute_result"
        }
      ],
      "source": [
        "import pandas as pd\n",
        "data = pd.read_pickle('dtm.pkl')\n",
        "data = data.transpose()\n",
        "data.head()"
      ]
    },
    {
      "cell_type": "code",
      "execution_count": null,
      "metadata": {
        "colab": {
          "base_uri": "https://localhost:8080/"
        },
        "id": "CISvWeeluj5c",
        "outputId": "45809e7a-cd22-4b1b-841f-559020852e4d"
      },
      "outputs": [
        {
          "data": {
            "text/plain": [
              "{'indiatoday': [('know', 19),\n",
              "  ('just', 18),\n",
              "  ('people', 17),\n",
              "  ('hospital', 15),\n",
              "  ('right', 13),\n",
              "  ('feel', 9),\n",
              "  ('emotions', 8),\n",
              "  ('channels', 7),\n",
              "  ('situation', 7),\n",
              "  ('apollo', 7),\n",
              "  ('chief', 7),\n",
              "  ('away', 6),\n",
              "  ('getting', 6),\n",
              "  ('passed', 6),\n",
              "  ('police', 6),\n",
              "  ('today', 6),\n",
              "  ('news', 6),\n",
              "  ('heard', 6),\n",
              "  ('thats', 6),\n",
              "  ('actually', 6),\n",
              "  ('like', 5),\n",
              "  ('official', 5),\n",
              "  ('reports', 5),\n",
              "  ('things', 4),\n",
              "  ('tell', 4),\n",
              "  ('tamil', 4),\n",
              "  ('sense', 4),\n",
              "  ('okay', 4),\n",
              "  ('officially', 4),\n",
              "  ('condition', 4)],\n",
              " 'ndtv': [('minister', 7),\n",
              "  ('hospital', 6),\n",
              "  ('did', 4),\n",
              "  ('death', 3),\n",
              "  ('saw', 3),\n",
              "  ('chief', 2),\n",
              "  ('mystery', 2),\n",
              "  ('says', 2),\n",
              "  ('cabinet', 2),\n",
              "  ('ate', 2),\n",
              "  ('recovering', 2),\n",
              "  ('said', 2),\n",
              "  ('time', 2),\n",
              "  ('health', 2),\n",
              "  ('party', 2),\n",
              "  ('ministers', 2),\n",
              "  ('government', 2),\n",
              "  ('joy', 2),\n",
              "  ('daniel', 1),\n",
              "  ('pieces', 1),\n",
              "  ('tamil', 1),\n",
              "  ('italy', 1),\n",
              "  ('leading', 1),\n",
              "  ('swamy', 1),\n",
              "  ('delica', 1),\n",
              "  ('sukumar', 1),\n",
              "  ('points', 1),\n",
              "  ('dented', 1),\n",
              "  ('indicate', 1),\n",
              "  ('position', 1)],\n",
              " 'wion': [('chief', 6),\n",
              "  ('minister', 6),\n",
              "  ('group', 4),\n",
              "  ('support', 3),\n",
              "  ('general', 3),\n",
              "  ('means', 3),\n",
              "  ('demands', 3),\n",
              "  ('point', 2),\n",
              "  ('nadu', 2),\n",
              "  ('latest', 2),\n",
              "  ('tamil', 2),\n",
              "  ('moment', 2),\n",
              "  ('main', 2),\n",
              "  ('death', 2),\n",
              "  ('secretary', 2),\n",
              "  ('demand', 2),\n",
              "  ('want', 2),\n",
              "  ('things', 2),\n",
              "  ('say', 2),\n",
              "  ('statement', 2),\n",
              "  ('coming', 2),\n",
              "  ('said', 2),\n",
              "  ('gop', 2),\n",
              "  ('state', 2),\n",
              "  ('riveting', 2),\n",
              "  ('demanding', 1),\n",
              "  ('post', 1),\n",
              "  ('days', 1),\n",
              "  ('position', 1),\n",
              "  ('submerge', 1)]}"
            ]
          },
          "execution_count": 11,
          "metadata": {},
          "output_type": "execute_result"
        }
      ],
      "source": [
        "top_dict = {}\n",
        "for c in data.columns:\n",
        "  top = data[c].sort_values(ascending=False).head(30)\n",
        "  top_dict[c]= list(zip(top.index, top.values))\n",
        "top_dict"
      ]
    },
    {
      "cell_type": "code",
      "execution_count": null,
      "metadata": {
        "colab": {
          "base_uri": "https://localhost:8080/"
        },
        "id": "VagojDsuvHc3",
        "outputId": "c271dbb7-a8e0-465f-8a39-23c81bdabdff"
      },
      "outputs": [
        {
          "name": "stdout",
          "output_type": "stream",
          "text": [
            "indiatoday\n",
            "know, just, people, hospital, right, feel, emotions, channels, situation, apollo, chief, away, getting, passed, police, today, news, heard, thats, actually\n",
            "---\n",
            "ndtv\n",
            "minister, hospital, did, death, saw, chief, mystery, says, cabinet, ate, recovering, said, time, health, party, ministers, government, joy, daniel, pieces\n",
            "---\n",
            "wion\n",
            "chief, minister, group, support, general, means, demands, point, nadu, latest, tamil, moment, main, death, secretary, demand, want, things, say, statement\n",
            "---\n"
          ]
        }
      ],
      "source": [
        "for channel, top_words in top_dict.items():\n",
        "  print(channel)\n",
        "  print(', '.join([word for word, count in top_words[0:20]]))\n",
        "  print('---')"
      ]
    },
    {
      "cell_type": "code",
      "execution_count": null,
      "metadata": {
        "colab": {
          "base_uri": "https://localhost:8080/"
        },
        "id": "NPO3uwCYvhTH",
        "outputId": "c6976091-5e02-4716-869c-ab66f19591ae"
      },
      "outputs": [
        {
          "name": "stderr",
          "output_type": "stream",
          "text": [
            "[nltk_data] Downloading package stopwords to /root/nltk_data...\n",
            "[nltk_data]   Unzipping corpora/stopwords.zip.\n"
          ]
        }
      ],
      "source": [
        "import nltk\n",
        "from nltk.corpus import stopwords\n",
        "nltk.download('stopwords')\n",
        "stop_words = set(stopwords.words('english'))"
      ]
    },
    {
      "cell_type": "code",
      "execution_count": null,
      "metadata": {
        "colab": {
          "base_uri": "https://localhost:8080/"
        },
        "id": "ZIt95FLVwALk",
        "outputId": "0291bfa0-1b92-4a48-bb2c-b4ed5f435a98"
      },
      "outputs": [
        {
          "data": {
            "text/plain": [
              "{'a',\n",
              " 'about',\n",
              " 'above',\n",
              " 'after',\n",
              " 'again',\n",
              " 'against',\n",
              " 'ain',\n",
              " 'all',\n",
              " 'am',\n",
              " 'an',\n",
              " 'and',\n",
              " 'any',\n",
              " 'are',\n",
              " 'aren',\n",
              " \"aren't\",\n",
              " 'as',\n",
              " 'at',\n",
              " 'be',\n",
              " 'because',\n",
              " 'been',\n",
              " 'before',\n",
              " 'being',\n",
              " 'below',\n",
              " 'between',\n",
              " 'both',\n",
              " 'but',\n",
              " 'by',\n",
              " 'can',\n",
              " 'couldn',\n",
              " \"couldn't\",\n",
              " 'd',\n",
              " 'did',\n",
              " 'didn',\n",
              " \"didn't\",\n",
              " 'do',\n",
              " 'does',\n",
              " 'doesn',\n",
              " \"doesn't\",\n",
              " 'doing',\n",
              " 'don',\n",
              " \"don't\",\n",
              " 'down',\n",
              " 'during',\n",
              " 'each',\n",
              " 'few',\n",
              " 'for',\n",
              " 'from',\n",
              " 'further',\n",
              " 'had',\n",
              " 'hadn',\n",
              " \"hadn't\",\n",
              " 'has',\n",
              " 'hasn',\n",
              " \"hasn't\",\n",
              " 'have',\n",
              " 'haven',\n",
              " \"haven't\",\n",
              " 'having',\n",
              " 'he',\n",
              " 'her',\n",
              " 'here',\n",
              " 'hers',\n",
              " 'herself',\n",
              " 'him',\n",
              " 'himself',\n",
              " 'his',\n",
              " 'how',\n",
              " 'i',\n",
              " 'if',\n",
              " 'in',\n",
              " 'into',\n",
              " 'is',\n",
              " 'isn',\n",
              " \"isn't\",\n",
              " 'it',\n",
              " \"it's\",\n",
              " 'its',\n",
              " 'itself',\n",
              " 'just',\n",
              " 'll',\n",
              " 'm',\n",
              " 'ma',\n",
              " 'me',\n",
              " 'mightn',\n",
              " \"mightn't\",\n",
              " 'more',\n",
              " 'most',\n",
              " 'mustn',\n",
              " \"mustn't\",\n",
              " 'my',\n",
              " 'myself',\n",
              " 'needn',\n",
              " \"needn't\",\n",
              " 'no',\n",
              " 'nor',\n",
              " 'not',\n",
              " 'now',\n",
              " 'o',\n",
              " 'of',\n",
              " 'off',\n",
              " 'on',\n",
              " 'once',\n",
              " 'only',\n",
              " 'or',\n",
              " 'other',\n",
              " 'our',\n",
              " 'ours',\n",
              " 'ourselves',\n",
              " 'out',\n",
              " 'over',\n",
              " 'own',\n",
              " 're',\n",
              " 's',\n",
              " 'same',\n",
              " 'shan',\n",
              " \"shan't\",\n",
              " 'she',\n",
              " \"she's\",\n",
              " 'should',\n",
              " \"should've\",\n",
              " 'shouldn',\n",
              " \"shouldn't\",\n",
              " 'so',\n",
              " 'some',\n",
              " 'such',\n",
              " 't',\n",
              " 'than',\n",
              " 'that',\n",
              " \"that'll\",\n",
              " 'the',\n",
              " 'their',\n",
              " 'theirs',\n",
              " 'them',\n",
              " 'themselves',\n",
              " 'then',\n",
              " 'there',\n",
              " 'these',\n",
              " 'they',\n",
              " 'this',\n",
              " 'those',\n",
              " 'through',\n",
              " 'to',\n",
              " 'too',\n",
              " 'under',\n",
              " 'until',\n",
              " 'up',\n",
              " 've',\n",
              " 'very',\n",
              " 'was',\n",
              " 'wasn',\n",
              " \"wasn't\",\n",
              " 'we',\n",
              " 'were',\n",
              " 'weren',\n",
              " \"weren't\",\n",
              " 'what',\n",
              " 'when',\n",
              " 'where',\n",
              " 'which',\n",
              " 'while',\n",
              " 'who',\n",
              " 'whom',\n",
              " 'why',\n",
              " 'will',\n",
              " 'with',\n",
              " 'won',\n",
              " \"won't\",\n",
              " 'wouldn',\n",
              " \"wouldn't\",\n",
              " 'y',\n",
              " 'you',\n",
              " \"you'd\",\n",
              " \"you'll\",\n",
              " \"you're\",\n",
              " \"you've\",\n",
              " 'your',\n",
              " 'yours',\n",
              " 'yourself',\n",
              " 'yourselves'}"
            ]
          },
          "execution_count": 14,
          "metadata": {},
          "output_type": "execute_result"
        }
      ],
      "source": [
        "add_stop_words=stop_words\n",
        "add_stop_words"
      ]
    },
    {
      "cell_type": "code",
      "execution_count": null,
      "metadata": {
        "id": "QEugxharwFtI"
      },
      "outputs": [],
      "source": [
        "from sklearn.feature_extraction import text\n",
        "from sklearn.feature_extraction.text import CountVectorizer"
      ]
    },
    {
      "cell_type": "code",
      "execution_count": null,
      "metadata": {
        "id": "5eokfZX_wOSr"
      },
      "outputs": [],
      "source": [
        "data_clean = pd.read_pickle('data_clean.pkl')\n",
        "stop_words = text.ENGLISH_STOP_WORDS.union(add_stop_words)\n",
        "cv = CountVectorizer(stop_words='english')\n",
        "data_cv = cv.fit_transform(data_clean.transcript)\n",
        "data_stop = pd.DataFrame(data_cv.toarray(), columns=cv.get_feature_names_out())\n",
        "data_stop.index = data_clean.index\n",
        "import pickle\n",
        "pickle.dump(cv, open(\"cv_stop.pkl\", \"wb\"))\n",
        "data_stop.to_pickle(\"dtm_stop.pkl\")"
      ]
    },
    {
      "cell_type": "markdown",
      "metadata": {
        "id": "eSwTNxRYuCHE"
      },
      "source": []
    },
    {
      "cell_type": "markdown",
      "metadata": {
        "id": "rMV5WJr_n4fY"
      },
      "source": [
        "EDA- Exploratory data analysis\n"
      ]
    },
    {
      "cell_type": "code",
      "execution_count": null,
      "metadata": {
        "id": "QBBFjZMEwhlk"
      },
      "outputs": [],
      "source": [
        "from wordcloud import WordCloud\n",
        "wc = WordCloud(stopwords=stop_words, background_color=\"white\", colormap=\"Dark2\",\n",
        "max_font_size=150, random_state=42)"
      ]
    },
    {
      "cell_type": "code",
      "execution_count": null,
      "metadata": {
        "colab": {
          "background_save": true,
          "base_uri": "https://localhost:8080/",
          "height": 194
        },
        "id": "U5zpi5Rhw55b",
        "outputId": "fca16291-7dec-4bd4-d6d1-ee330330385c"
      },
      "outputs": [
        {
          "data": {
            "image/png": "[encoded data removed]",
            "text/plain": [
              "<Figure size 1600x600 with 3 Axes>"
            ]
          },
          "metadata": {},
          "output_type": "display_data"
        }
      ],
      "source": [
        "import matplotlib.pyplot as plt\n",
        "plt.rcParams['figure.figsize'] = [16, 6]\n",
        "full_names = ['ndtv', 'indiatoday', 'wion']\n",
        "for index, comedian in enumerate(data.columns):\n",
        "  wc.generate(data_clean.transcript[comedian])\n",
        "  plt.subplot(3, 4, index+1)\n",
        "  plt.imshow(wc, interpolation=\"bilinear\")\n",
        "  plt.axis(\"off\")\n",
        "  plt.title(full_names[index])\n",
        "plt.show()"
      ]
    },
    {
      "cell_type": "code",
      "execution_count": null,
      "metadata": {
        "colab": {
          "base_uri": "https://localhost:8080/",
          "height": 239
        },
        "id": "Nww8RcNKnLRJ",
        "outputId": "4b5fd4dc-4adb-453e-a631-9117a5436311"
      },
      "outputs": [
        {
          "data": {
            "text/html": [
              "\n",
              "  <div id=\"df-d17a5001-8b10-4022-8180-6172d0ffa7e2\">\n",
              "    <div class=\"colab-df-container\">\n",
              "      <div>\n",
              "<style scoped>\n",
              "    .dataframe tbody tr th:only-of-type {\n",
              "        vertical-align: middle;\n",
              "    }\n",
              "\n",
              "    .dataframe tbody tr th {\n",
              "        vertical-align: top;\n",
              "    }\n",
              "\n",
              "    .dataframe thead th {\n",
              "        text-align: right;\n",
              "    }\n",
              "</style>\n",
              "<table border=\"1\" class=\"dataframe\">\n",
              "  <thead>\n",
              "    <tr style=\"text-align: right;\">\n",
              "      <th></th>\n",
              "      <th>transcript</th>\n",
              "    </tr>\n",
              "  </thead>\n",
              "  <tbody>\n",
              "    <tr>\n",
              "      <th>indiatoday</th>\n",
              "      <td>okay we're getting in some news that\\r\\nthere are reports that suggest J\\r\\nlalita's health to be worsening now\\r\\naccording to two tunnel channel...</td>\n",
              "    </tr>\n",
              "    <tr>\n",
              "      <th>ndtv</th>\n",
              "      <td>now last week a minister from Tamilnadu\\r\\nconfessed that he and his colleagues\\r\\nlied about gelas health none saw her but\\r\\nthey said they spen...</td>\n",
              "    </tr>\n",
              "    <tr>\n",
              "      <th>wion</th>\n",
              "      <td>[Music]\\r\\n\\r\\nhe was coming in from in there in the\\r\\n\\r\\nstate of Tamil Nadu where Chief Minister\\r\\n\\r\\nI Palani saw me and said that Inquiry\\...</td>\n",
              "    </tr>\n",
              "  </tbody>\n",
              "</table>\n",
              "</div>\n",
              "      <button class=\"colab-df-convert\" onclick=\"convertToInteractive('df-d17a5001-8b10-4022-8180-6172d0ffa7e2')\"\n",
              "              title=\"Convert this dataframe to an interactive table.\"\n",
              "              style=\"display:none;\">\n",
              "        \n",
              "  <svg xmlns=\"http://www.w3.org/2000/svg\" height=\"24px\"viewBox=\"0 0 24 24\"\n",
              "       width=\"24px\">\n",
              "    <path d=\"M0 0h24v24H0V0z\" fill=\"none\"/>\n",
              "    <path d=\"M18.56 5.44l.94 2.06.94-2.06 2.06-.94-2.06-.94-.94-2.06-.94 2.06-2.06.94zm-11 1L8.5 8.5l.94-2.06 2.06-.94-2.06-.94L8.5 2.5l-.94 2.06-2.06.94zm10 10l.94 2.06.94-2.06 2.06-.94-2.06-.94-.94-2.06-.94 2.06-2.06.94z\"/><path d=\"M17.41 7.96l-1.37-1.37c-.4-.4-.92-.59-1.43-.59-.52 0-1.04.2-1.43.59L10.3 9.45l-7.72 7.72c-.78.78-.78 2.05 0 2.83L4 21.41c.39.39.9.59 1.41.59.51 0 1.02-.2 1.41-.59l7.78-7.78 2.81-2.81c.8-.78.8-2.07 0-2.86zM5.41 20L4 18.59l7.72-7.72 1.47 1.35L5.41 20z\"/>\n",
              "  </svg>\n",
              "      </button>\n",
              "      \n",
              "  <style>\n",
              "    .colab-df-container {\n",
              "      display:flex;\n",
              "      flex-wrap:wrap;\n",
              "      gap: 12px;\n",
              "    }\n",
              "\n",
              "    .colab-df-convert {\n",
              "      background-color: #E8F0FE;\n",
              "      border: none;\n",
              "      border-radius: 50%;\n",
              "      cursor: pointer;\n",
              "      display: none;\n",
              "      fill: #1967D2;\n",
              "      height: 32px;\n",
              "      padding: 0 0 0 0;\n",
              "      width: 32px;\n",
              "    }\n",
              "\n",
              "    .colab-df-convert:hover {\n",
              "      background-color: #E2EBFA;\n",
              "      box-shadow: 0px 1px 2px rgba(60, 64, 67, 0.3), 0px 1px 3px 1px rgba(60, 64, 67, 0.15);\n",
              "      fill: #174EA6;\n",
              "    }\n",
              "\n",
              "    [theme=dark] .colab-df-convert {\n",
              "      background-color: #3B4455;\n",
              "      fill: #D2E3FC;\n",
              "    }\n",
              "\n",
              "    [theme=dark] .colab-df-convert:hover {\n",
              "      background-color: #434B5C;\n",
              "      box-shadow: 0px 1px 3px 1px rgba(0, 0, 0, 0.15);\n",
              "      filter: drop-shadow(0px 1px 2px rgba(0, 0, 0, 0.3));\n",
              "      fill: #FFFFFF;\n",
              "    }\n",
              "  </style>\n",
              "\n",
              "      <script>\n",
              "        const buttonEl =\n",
              "          document.querySelector('#df-d17a5001-8b10-4022-8180-6172d0ffa7e2 button.colab-df-convert');\n",
              "        buttonEl.style.display =\n",
              "          google.colab.kernel.accessAllowed ? 'block' : 'none';\n",
              "\n",
              "        async function convertToInteractive(key) {\n",
              "          const element = document.querySelector('#df-d17a5001-8b10-4022-8180-6172d0ffa7e2');\n",
              "          const dataTable =\n",
              "            await google.colab.kernel.invokeFunction('convertToInteractive',\n",
              "                                                     [key], {});\n",
              "          if (!dataTable) return;\n",
              "\n",
              "          const docLinkHtml = 'Like what you see? Visit the ' +\n",
              "            '<a target=\"_blank\" href=https://colab.research.google.com/notebooks/data_table.ipynb>data table notebook</a>'\n",
              "            + ' to learn more about interactive tables.';\n",
              "          element.innerHTML = '';\n",
              "          dataTable['output_type'] = 'display_data';\n",
              "          await google.colab.output.renderOutput(dataTable, element);\n",
              "          const docLink = document.createElement('div');\n",
              "          docLink.innerHTML = docLinkHtml;\n",
              "          element.appendChild(docLink);\n",
              "        }\n",
              "      </script>\n",
              "    </div>\n",
              "  </div>\n",
              "  "
            ],
            "text/plain": [
              "                                                                                                                                                       transcript\n",
              "indiatoday  okay we're getting in some news that\\r\\nthere are reports that suggest J\\r\\nlalita's health to be worsening now\\r\\naccording to two tunnel channel...\n",
              "ndtv        now last week a minister from Tamilnadu\\r\\nconfessed that he and his colleagues\\r\\nlied about gelas health none saw her but\\r\\nthey said they spen...\n",
              "wion        [Music]\\r\\n\\r\\nhe was coming in from in there in the\\r\\n\\r\\nstate of Tamil Nadu where Chief Minister\\r\\n\\r\\nI Palani saw me and said that Inquiry\\..."
            ]
          },
          "execution_count": 42,
          "metadata": {},
          "output_type": "execute_result"
        }
      ],
      "source": [
        "import pandas as pd\n",
        "data = pd.read_pickle('corpus.pkl')\n",
        "data"
      ]
    },
    {
      "cell_type": "code",
      "execution_count": null,
      "metadata": {
        "colab": {
          "base_uri": "https://localhost:8080/",
          "height": 239
        },
        "id": "Jue2F0FtnREf",
        "outputId": "5d04d4b1-436c-4888-b96d-547a09d99f51"
      },
      "outputs": [
        {
          "data": {
            "text/html": [
              "\n",
              "  <div id=\"df-6789c1b9-6a3a-474c-a279-3207f8be477f\">\n",
              "    <div class=\"colab-df-container\">\n",
              "      <div>\n",
              "<style scoped>\n",
              "    .dataframe tbody tr th:only-of-type {\n",
              "        vertical-align: middle;\n",
              "    }\n",
              "\n",
              "    .dataframe tbody tr th {\n",
              "        vertical-align: top;\n",
              "    }\n",
              "\n",
              "    .dataframe thead th {\n",
              "        text-align: right;\n",
              "    }\n",
              "</style>\n",
              "<table border=\"1\" class=\"dataframe\">\n",
              "  <thead>\n",
              "    <tr style=\"text-align: right;\">\n",
              "      <th></th>\n",
              "      <th>transcript</th>\n",
              "      <th>polarity</th>\n",
              "      <th>subjectivity</th>\n",
              "    </tr>\n",
              "  </thead>\n",
              "  <tbody>\n",
              "    <tr>\n",
              "      <th>indiatoday</th>\n",
              "      <td>okay we're getting in some news that\\r\\nthere are reports that suggest J\\r\\nlalita's health to be worsening now\\r\\naccording to two tunnel channel...</td>\n",
              "      <td>0.045910</td>\n",
              "      <td>0.477945</td>\n",
              "    </tr>\n",
              "    <tr>\n",
              "      <th>ndtv</th>\n",
              "      <td>now last week a minister from Tamilnadu\\r\\nconfessed that he and his colleagues\\r\\nlied about gelas health none saw her but\\r\\nthey said they spen...</td>\n",
              "      <td>0.130556</td>\n",
              "      <td>0.352222</td>\n",
              "    </tr>\n",
              "    <tr>\n",
              "      <th>wion</th>\n",
              "      <td>[Music]\\r\\n\\r\\nhe was coming in from in there in the\\r\\n\\r\\nstate of Tamil Nadu where Chief Minister\\r\\n\\r\\nI Palani saw me and said that Inquiry\\...</td>\n",
              "      <td>0.158387</td>\n",
              "      <td>0.467149</td>\n",
              "    </tr>\n",
              "  </tbody>\n",
              "</table>\n",
              "</div>\n",
              "      <button class=\"colab-df-convert\" onclick=\"convertToInteractive('df-6789c1b9-6a3a-474c-a279-3207f8be477f')\"\n",
              "              title=\"Convert this dataframe to an interactive table.\"\n",
              "              style=\"display:none;\">\n",
              "        \n",
              "  <svg xmlns=\"http://www.w3.org/2000/svg\" height=\"24px\"viewBox=\"0 0 24 24\"\n",
              "       width=\"24px\">\n",
              "    <path d=\"M0 0h24v24H0V0z\" fill=\"none\"/>\n",
              "    <path d=\"M18.56 5.44l.94 2.06.94-2.06 2.06-.94-2.06-.94-.94-2.06-.94 2.06-2.06.94zm-11 1L8.5 8.5l.94-2.06 2.06-.94-2.06-.94L8.5 2.5l-.94 2.06-2.06.94zm10 10l.94 2.06.94-2.06 2.06-.94-2.06-.94-.94-2.06-.94 2.06-2.06.94z\"/><path d=\"M17.41 7.96l-1.37-1.37c-.4-.4-.92-.59-1.43-.59-.52 0-1.04.2-1.43.59L10.3 9.45l-7.72 7.72c-.78.78-.78 2.05 0 2.83L4 21.41c.39.39.9.59 1.41.59.51 0 1.02-.2 1.41-.59l7.78-7.78 2.81-2.81c.8-.78.8-2.07 0-2.86zM5.41 20L4 18.59l7.72-7.72 1.47 1.35L5.41 20z\"/>\n",
              "  </svg>\n",
              "      </button>\n",
              "      \n",
              "  <style>\n",
              "    .colab-df-container {\n",
              "      display:flex;\n",
              "      flex-wrap:wrap;\n",
              "      gap: 12px;\n",
              "    }\n",
              "\n",
              "    .colab-df-convert {\n",
              "      background-color: #E8F0FE;\n",
              "      border: none;\n",
              "      border-radius: 50%;\n",
              "      cursor: pointer;\n",
              "      display: none;\n",
              "      fill: #1967D2;\n",
              "      height: 32px;\n",
              "      padding: 0 0 0 0;\n",
              "      width: 32px;\n",
              "    }\n",
              "\n",
              "    .colab-df-convert:hover {\n",
              "      background-color: #E2EBFA;\n",
              "      box-shadow: 0px 1px 2px rgba(60, 64, 67, 0.3), 0px 1px 3px 1px rgba(60, 64, 67, 0.15);\n",
              "      fill: #174EA6;\n",
              "    }\n",
              "\n",
              "    [theme=dark] .colab-df-convert {\n",
              "      background-color: #3B4455;\n",
              "      fill: #D2E3FC;\n",
              "    }\n",
              "\n",
              "    [theme=dark] .colab-df-convert:hover {\n",
              "      background-color: #434B5C;\n",
              "      box-shadow: 0px 1px 3px 1px rgba(0, 0, 0, 0.15);\n",
              "      filter: drop-shadow(0px 1px 2px rgba(0, 0, 0, 0.3));\n",
              "      fill: #FFFFFF;\n",
              "    }\n",
              "  </style>\n",
              "\n",
              "      <script>\n",
              "        const buttonEl =\n",
              "          document.querySelector('#df-6789c1b9-6a3a-474c-a279-3207f8be477f button.colab-df-convert');\n",
              "        buttonEl.style.display =\n",
              "          google.colab.kernel.accessAllowed ? 'block' : 'none';\n",
              "\n",
              "        async function convertToInteractive(key) {\n",
              "          const element = document.querySelector('#df-6789c1b9-6a3a-474c-a279-3207f8be477f');\n",
              "          const dataTable =\n",
              "            await google.colab.kernel.invokeFunction('convertToInteractive',\n",
              "                                                     [key], {});\n",
              "          if (!dataTable) return;\n",
              "\n",
              "          const docLinkHtml = 'Like what you see? Visit the ' +\n",
              "            '<a target=\"_blank\" href=https://colab.research.google.com/notebooks/data_table.ipynb>data table notebook</a>'\n",
              "            + ' to learn more about interactive tables.';\n",
              "          element.innerHTML = '';\n",
              "          dataTable['output_type'] = 'display_data';\n",
              "          await google.colab.output.renderOutput(dataTable, element);\n",
              "          const docLink = document.createElement('div');\n",
              "          docLink.innerHTML = docLinkHtml;\n",
              "          element.appendChild(docLink);\n",
              "        }\n",
              "      </script>\n",
              "    </div>\n",
              "  </div>\n",
              "  "
            ],
            "text/plain": [
              "                                                                                                                                                       transcript  \\\n",
              "indiatoday  okay we're getting in some news that\\r\\nthere are reports that suggest J\\r\\nlalita's health to be worsening now\\r\\naccording to two tunnel channel...   \n",
              "ndtv        now last week a minister from Tamilnadu\\r\\nconfessed that he and his colleagues\\r\\nlied about gelas health none saw her but\\r\\nthey said they spen...   \n",
              "wion        [Music]\\r\\n\\r\\nhe was coming in from in there in the\\r\\n\\r\\nstate of Tamil Nadu where Chief Minister\\r\\n\\r\\nI Palani saw me and said that Inquiry\\...   \n",
              "\n",
              "            polarity  subjectivity  \n",
              "indiatoday  0.045910      0.477945  \n",
              "ndtv        0.130556      0.352222  \n",
              "wion        0.158387      0.467149  "
            ]
          },
          "execution_count": 43,
          "metadata": {},
          "output_type": "execute_result"
        }
      ],
      "source": [
        "from textblob import TextBlob\n",
        "pol = lambda x: TextBlob(x).sentiment.polarity\n",
        "sub = lambda x: TextBlob(x).sentiment.subjectivity\n",
        "data['polarity'] = data['transcript'].apply(pol)\n",
        "data['subjectivity'] = data['transcript'].apply(sub)\n",
        "data"
      ]
    },
    {
      "cell_type": "code",
      "execution_count": null,
      "metadata": {
        "colab": {
          "base_uri": "https://localhost:8080/",
          "height": 732
        },
        "id": "YEYfx2LMnrsa",
        "outputId": "4f12323a-29b8-4bed-f99a-75297b466322"
      },
      "outputs": [
        {
          "data": {
            "image/png": "[encoded data removed]",
            "text/plain": [
              "<Figure size 1000x800 with 1 Axes>"
            ]
          },
          "metadata": {},
          "output_type": "display_data"
        }
      ],
      "source": [
        "get_ipython().run_line_magic('matplotlib', 'inline')\n",
        "import matplotlib.pyplot as plt\n",
        "plt.rcParams['figure.figsize'] = [10, 8]\n",
        "for index, channel in enumerate(data.index):\n",
        "  x = data.polarity.loc[channel]\n",
        "  y = data.subjectivity.loc[channel]\n",
        "  plt.scatter(x, y, color='blue')\n",
        "  plt.text(x+.001, y+.001, channel, fontsize=10)\n",
        "  plt.xlim(-.01, .30)\n",
        "plt.title('Sentiment Analysis', fontsize=20)\n",
        "plt.xlabel('<-- Negative -------- Positive -->', fontsize=15)\n",
        "plt.ylabel('<-- Facts -------- Opinions -->', fontsize=15)\n",
        "plt.show()"
      ]
    },
    {
      "cell_type": "code",
      "execution_count": null,
      "metadata": {
        "id": "Q8bzoSFWpCU4"
      },
      "outputs": [],
      "source": [
        "import numpy as np\n",
        "import math\n",
        "def split_text(text, n=10):\n",
        "\n",
        "    length = len(text)\n",
        "    size = math.floor(length / n)\n",
        "    start = np.arange(0, length, size)\n",
        "    split_list = []\n",
        "    for piece in range(n):\n",
        "      split_list.append(text[start[piece]:start[piece]+size])\n",
        "      return split_list"
      ]
    },
    {
      "cell_type": "code",
      "execution_count": null,
      "metadata": {
        "colab": {
          "base_uri": "https://localhost:8080/",
          "height": 239
        },
        "id": "6DHxX1gEqS7J",
        "outputId": "d66c6e59-1bfc-4bc4-c068-c0afd4c57ff2"
      },
      "outputs": [
        {
          "data": {
            "text/html": [
              "\n",
              "  <div id=\"df-794be4d5-3828-4e11-b094-5a794d562779\">\n",
              "    <div class=\"colab-df-container\">\n",
              "      <div>\n",
              "<style scoped>\n",
              "    .dataframe tbody tr th:only-of-type {\n",
              "        vertical-align: middle;\n",
              "    }\n",
              "\n",
              "    .dataframe tbody tr th {\n",
              "        vertical-align: top;\n",
              "    }\n",
              "\n",
              "    .dataframe thead th {\n",
              "        text-align: right;\n",
              "    }\n",
              "</style>\n",
              "<table border=\"1\" class=\"dataframe\">\n",
              "  <thead>\n",
              "    <tr style=\"text-align: right;\">\n",
              "      <th></th>\n",
              "      <th>transcript</th>\n",
              "      <th>polarity</th>\n",
              "      <th>subjectivity</th>\n",
              "    </tr>\n",
              "  </thead>\n",
              "  <tbody>\n",
              "    <tr>\n",
              "      <th>indiatoday</th>\n",
              "      <td>okay we're getting in some news that\\r\\nthere are reports that suggest J\\r\\nlalita's health to be worsening now\\r\\naccording to two tunnel channel...</td>\n",
              "      <td>0.045910</td>\n",
              "      <td>0.477945</td>\n",
              "    </tr>\n",
              "    <tr>\n",
              "      <th>ndtv</th>\n",
              "      <td>now last week a minister from Tamilnadu\\r\\nconfessed that he and his colleagues\\r\\nlied about gelas health none saw her but\\r\\nthey said they spen...</td>\n",
              "      <td>0.130556</td>\n",
              "      <td>0.352222</td>\n",
              "    </tr>\n",
              "    <tr>\n",
              "      <th>wion</th>\n",
              "      <td>[Music]\\r\\n\\r\\nhe was coming in from in there in the\\r\\n\\r\\nstate of Tamil Nadu where Chief Minister\\r\\n\\r\\nI Palani saw me and said that Inquiry\\...</td>\n",
              "      <td>0.158387</td>\n",
              "      <td>0.467149</td>\n",
              "    </tr>\n",
              "  </tbody>\n",
              "</table>\n",
              "</div>\n",
              "      <button class=\"colab-df-convert\" onclick=\"convertToInteractive('df-794be4d5-3828-4e11-b094-5a794d562779')\"\n",
              "              title=\"Convert this dataframe to an interactive table.\"\n",
              "              style=\"display:none;\">\n",
              "        \n",
              "  <svg xmlns=\"http://www.w3.org/2000/svg\" height=\"24px\"viewBox=\"0 0 24 24\"\n",
              "       width=\"24px\">\n",
              "    <path d=\"M0 0h24v24H0V0z\" fill=\"none\"/>\n",
              "    <path d=\"M18.56 5.44l.94 2.06.94-2.06 2.06-.94-2.06-.94-.94-2.06-.94 2.06-2.06.94zm-11 1L8.5 8.5l.94-2.06 2.06-.94-2.06-.94L8.5 2.5l-.94 2.06-2.06.94zm10 10l.94 2.06.94-2.06 2.06-.94-2.06-.94-.94-2.06-.94 2.06-2.06.94z\"/><path d=\"M17.41 7.96l-1.37-1.37c-.4-.4-.92-.59-1.43-.59-.52 0-1.04.2-1.43.59L10.3 9.45l-7.72 7.72c-.78.78-.78 2.05 0 2.83L4 21.41c.39.39.9.59 1.41.59.51 0 1.02-.2 1.41-.59l7.78-7.78 2.81-2.81c.8-.78.8-2.07 0-2.86zM5.41 20L4 18.59l7.72-7.72 1.47 1.35L5.41 20z\"/>\n",
              "  </svg>\n",
              "      </button>\n",
              "      \n",
              "  <style>\n",
              "    .colab-df-container {\n",
              "      display:flex;\n",
              "      flex-wrap:wrap;\n",
              "      gap: 12px;\n",
              "    }\n",
              "\n",
              "    .colab-df-convert {\n",
              "      background-color: #E8F0FE;\n",
              "      border: none;\n",
              "      border-radius: 50%;\n",
              "      cursor: pointer;\n",
              "      display: none;\n",
              "      fill: #1967D2;\n",
              "      height: 32px;\n",
              "      padding: 0 0 0 0;\n",
              "      width: 32px;\n",
              "    }\n",
              "\n",
              "    .colab-df-convert:hover {\n",
              "      background-color: #E2EBFA;\n",
              "      box-shadow: 0px 1px 2px rgba(60, 64, 67, 0.3), 0px 1px 3px 1px rgba(60, 64, 67, 0.15);\n",
              "      fill: #174EA6;\n",
              "    }\n",
              "\n",
              "    [theme=dark] .colab-df-convert {\n",
              "      background-color: #3B4455;\n",
              "      fill: #D2E3FC;\n",
              "    }\n",
              "\n",
              "    [theme=dark] .colab-df-convert:hover {\n",
              "      background-color: #434B5C;\n",
              "      box-shadow: 0px 1px 3px 1px rgba(0, 0, 0, 0.15);\n",
              "      filter: drop-shadow(0px 1px 2px rgba(0, 0, 0, 0.3));\n",
              "      fill: #FFFFFF;\n",
              "    }\n",
              "  </style>\n",
              "\n",
              "      <script>\n",
              "        const buttonEl =\n",
              "          document.querySelector('#df-794be4d5-3828-4e11-b094-5a794d562779 button.colab-df-convert');\n",
              "        buttonEl.style.display =\n",
              "          google.colab.kernel.accessAllowed ? 'block' : 'none';\n",
              "\n",
              "        async function convertToInteractive(key) {\n",
              "          const element = document.querySelector('#df-794be4d5-3828-4e11-b094-5a794d562779');\n",
              "          const dataTable =\n",
              "            await google.colab.kernel.invokeFunction('convertToInteractive',\n",
              "                                                     [key], {});\n",
              "          if (!dataTable) return;\n",
              "\n",
              "          const docLinkHtml = 'Like what you see? Visit the ' +\n",
              "            '<a target=\"_blank\" href=https://colab.research.google.com/notebooks/data_table.ipynb>data table notebook</a>'\n",
              "            + ' to learn more about interactive tables.';\n",
              "          element.innerHTML = '';\n",
              "          dataTable['output_type'] = 'display_data';\n",
              "          await google.colab.output.renderOutput(dataTable, element);\n",
              "          const docLink = document.createElement('div');\n",
              "          docLink.innerHTML = docLinkHtml;\n",
              "          element.appendChild(docLink);\n",
              "        }\n",
              "      </script>\n",
              "    </div>\n",
              "  </div>\n",
              "  "
            ],
            "text/plain": [
              "                                                                                                                                                       transcript  \\\n",
              "indiatoday  okay we're getting in some news that\\r\\nthere are reports that suggest J\\r\\nlalita's health to be worsening now\\r\\naccording to two tunnel channel...   \n",
              "ndtv        now last week a minister from Tamilnadu\\r\\nconfessed that he and his colleagues\\r\\nlied about gelas health none saw her but\\r\\nthey said they spen...   \n",
              "wion        [Music]\\r\\n\\r\\nhe was coming in from in there in the\\r\\n\\r\\nstate of Tamil Nadu where Chief Minister\\r\\n\\r\\nI Palani saw me and said that Inquiry\\...   \n",
              "\n",
              "            polarity  subjectivity  \n",
              "indiatoday  0.045910      0.477945  \n",
              "ndtv        0.130556      0.352222  \n",
              "wion        0.158387      0.467149  "
            ]
          },
          "execution_count": 46,
          "metadata": {},
          "output_type": "execute_result"
        }
      ],
      "source": [
        "data"
      ]
    },
    {
      "cell_type": "code",
      "execution_count": null,
      "metadata": {
        "colab": {
          "base_uri": "https://localhost:8080/"
        },
        "id": "IFECS37nqdV0",
        "outputId": "ffb6c332-d542-45d3-988f-dc588e6b00d5"
      },
      "outputs": [
        {
          "data": {
            "text/plain": [
              "[[\"okay we're getting in some news that\\r\\nthere are reports that suggest J\\r\\nlalita's health to be worsening now\\r\\naccording to two tunnel channels they\\r\\nsay that J Lolita the chief minister of\\r\\ntamil nadu is no more that's according\\r\\nto the reports coming in from these two\\r\\nchannels in the state giving out reports\\r\\nof the Chief Minister's death now we\\r\\nhaven't really heard officially from the\\r\\nApollo hospital the last move that we\\r\\nheard was through the official medical\\r\\nbulletin that said that the condition of\\r\\nthe chief minister is very critical\\r\\nwe also last heard that a team of\\r\\nspecialists from Ames have already\\r\\nreached the Apolo Hospital let's just go\\r\\nstraight across to consulting editor\\r\\nIndia today Rajdeep Sardesai asleep what\\r\\ndo you make of this news I mean could\\r\\nthis just be you know a channel jumping\\r\\nthe gun because we haven't heard\\r\\nanything officially from the hospital\\r\\njust as yet well given the sensitivity\\r\\nof the situation o\"],\n",
              " ['now last week a minister from Tamilnadu\\r\\nconfessed that he and his colleagues\\r\\nlied about gelas health none saw her but\\r\\nthey said they spent stories that she\\r\\nate atleast in hospital and was\\r\\n'],\n",
              " ['[Music]\\r\\n\\r\\nhe was coming in from in there in the\\r\\n\\r\\nstate of Tamil Nadu where Chief Minister\\r\\n\\r\\nI Palani saw me and said that Inquiry\\r\\n\\r\\nCommission will be constituted under a\\r\\n\\r\\ntrial judge to probe the death of former\\r\\n\\r\\nChief Minister']]"
            ]
          },
          "execution_count": 47,
          "metadata": {},
          "output_type": "execute_result"
        }
      ],
      "source": [
        "list_pieces = []\n",
        "for t in data.transcript:\n",
        "  split = split_text(t)\n",
        "  list_pieces.append(split)\n",
        "list_pieces"
      ]
    },
    {
      "cell_type": "markdown",
      "metadata": {
        "id": "M8R1U8NhbD8j"
      },
      "source": [
        "Topic modelling\n"
      ]
    },
    {
      "cell_type": "code",
      "execution_count": null,
      "metadata": {
        "colab": {
          "base_uri": "https://localhost:8080/",
          "height": 236
        },
        "id": "iYnFuTvCbFuU",
        "outputId": "8c92cce5-4291-4bac-d914-756bf5c40e3d"
      },
      "outputs": [
        {
          "data": {
            "text/html": [
              "\n",
              "  <div id=\"df-cfe21d9a-3c74-4a11-96de-102213f3b689\">\n",
              "    <div class=\"colab-df-container\">\n",
              "      <div>\n",
              "<style scoped>\n",
              "    .dataframe tbody tr th:only-of-type {\n",
              "        vertical-align: middle;\n",
              "    }\n",
              "\n",
              "    .dataframe tbody tr th {\n",
              "        vertical-align: top;\n",
              "    }\n",
              "\n",
              "    .dataframe thead th {\n",
              "        text-align: right;\n",
              "    }\n",
              "</style>\n",
              "<table border=\"1\" class=\"dataframe\">\n",
              "  <thead>\n",
              "    <tr style=\"text-align: right;\">\n",
              "      <th></th>\n",
              "      <th>able</th>\n",
              "      <th>absolutely</th>\n",
              "      <th>abstraction</th>\n",
              "      <th>according</th>\n",
              "      <th>accurate</th>\n",
              "      <th>achievement</th>\n",
              "      <th>actually</th>\n",
              "      <th>add</th>\n",
              "      <th>admitted</th>\n",
              "      <th>afraid</th>\n",
              "      <th>...</th>\n",
              "      <th>world</th>\n",
              "      <th>worse</th>\n",
              "      <th>worsened</th>\n",
              "      <th>worsening</th>\n",
              "      <th>worst</th>\n",
              "      <th>wrong</th>\n",
              "      <th>yeah</th>\n",
              "      <th>year</th>\n",
              "      <th>yes</th>\n",
              "      <th>youre</th>\n",
              "    </tr>\n",
              "  </thead>\n",
              "  <tbody>\n",
              "    <tr>\n",
              "      <th>indiatoday</th>\n",
              "      <td>2</td>\n",
              "      <td>3</td>\n",
              "      <td>0</td>\n",
              "      <td>2</td>\n",
              "      <td>1</td>\n",
              "      <td>0</td>\n",
              "      <td>6</td>\n",
              "      <td>1</td>\n",
              "      <td>0</td>\n",
              "      <td>1</td>\n",
              "      <td>...</td>\n",
              "      <td>1</td>\n",
              "      <td>1</td>\n",
              "      <td>1</td>\n",
              "      <td>1</td>\n",
              "      <td>2</td>\n",
              "      <td>2</td>\n",
              "      <td>1</td>\n",
              "      <td>0</td>\n",
              "      <td>2</td>\n",
              "      <td>1</td>\n",
              "    </tr>\n",
              "    <tr>\n",
              "      <th>ndtv</th>\n",
              "      <td>0</td>\n",
              "      <td>0</td>\n",
              "      <td>0</td>\n",
              "      <td>0</td>\n",
              "      <td>0</td>\n",
              "      <td>0</td>\n",
              "      <td>0</td>\n",
              "      <td>0</td>\n",
              "      <td>1</td>\n",
              "      <td>0</td>\n",
              "      <td>...</td>\n",
              "      <td>0</td>\n",
              "      <td>0</td>\n",
              "      <td>0</td>\n",
              "      <td>0</td>\n",
              "      <td>0</td>\n",
              "      <td>0</td>\n",
              "      <td>0</td>\n",
              "      <td>1</td>\n",
              "      <td>0</td>\n",
              "      <td>0</td>\n",
              "    </tr>\n",
              "    <tr>\n",
              "      <th>wion</th>\n",
              "      <td>0</td>\n",
              "      <td>0</td>\n",
              "      <td>1</td>\n",
              "      <td>0</td>\n",
              "      <td>0</td>\n",
              "      <td>1</td>\n",
              "      <td>0</td>\n",
              "      <td>0</td>\n",
              "      <td>0</td>\n",
              "      <td>0</td>\n",
              "      <td>...</td>\n",
              "      <td>0</td>\n",
              "      <td>0</td>\n",
              "      <td>0</td>\n",
              "      <td>0</td>\n",
              "      <td>0</td>\n",
              "      <td>0</td>\n",
              "      <td>0</td>\n",
              "      <td>0</td>\n",
              "      <td>0</td>\n",
              "      <td>0</td>\n",
              "    </tr>\n",
              "  </tbody>\n",
              "</table>\n",
              "<p>3 rows × 583 columns</p>\n",
              "</div>\n",
              "      <button class=\"colab-df-convert\" onclick=\"convertToInteractive('df-cfe21d9a-3c74-4a11-96de-102213f3b689')\"\n",
              "              title=\"Convert this dataframe to an interactive table.\"\n",
              "              style=\"display:none;\">\n",
              "        \n",
              "  <svg xmlns=\"http://www.w3.org/2000/svg\" height=\"24px\"viewBox=\"0 0 24 24\"\n",
              "       width=\"24px\">\n",
              "    <path d=\"M0 0h24v24H0V0z\" fill=\"none\"/>\n",
              "    <path d=\"M18.56 5.44l.94 2.06.94-2.06 2.06-.94-2.06-.94-.94-2.06-.94 2.06-2.06.94zm-11 1L8.5 8.5l.94-2.06 2.06-.94-2.06-.94L8.5 2.5l-.94 2.06-2.06.94zm10 10l.94 2.06.94-2.06 2.06-.94-2.06-.94-.94-2.06-.94 2.06-2.06.94z\"/><path d=\"M17.41 7.96l-1.37-1.37c-.4-.4-.92-.59-1.43-.59-.52 0-1.04.2-1.43.59L10.3 9.45l-7.72 7.72c-.78.78-.78 2.05 0 2.83L4 21.41c.39.39.9.59 1.41.59.51 0 1.02-.2 1.41-.59l7.78-7.78 2.81-2.81c.8-.78.8-2.07 0-2.86zM5.41 20L4 18.59l7.72-7.72 1.47 1.35L5.41 20z\"/>\n",
              "  </svg>\n",
              "      </button>\n",
              "      \n",
              "  <style>\n",
              "    .colab-df-container {\n",
              "      display:flex;\n",
              "      flex-wrap:wrap;\n",
              "      gap: 12px;\n",
              "    }\n",
              "\n",
              "    .colab-df-convert {\n",
              "      background-color: #E8F0FE;\n",
              "      border: none;\n",
              "      border-radius: 50%;\n",
              "      cursor: pointer;\n",
              "      display: none;\n",
              "      fill: #1967D2;\n",
              "      height: 32px;\n",
              "      padding: 0 0 0 0;\n",
              "      width: 32px;\n",
              "    }\n",
              "\n",
              "    .colab-df-convert:hover {\n",
              "      background-color: #E2EBFA;\n",
              "      box-shadow: 0px 1px 2px rgba(60, 64, 67, 0.3), 0px 1px 3px 1px rgba(60, 64, 67, 0.15);\n",
              "      fill: #174EA6;\n",
              "    }\n",
              "\n",
              "    [theme=dark] .colab-df-convert {\n",
              "      background-color: #3B4455;\n",
              "      fill: #D2E3FC;\n",
              "    }\n",
              "\n",
              "    [theme=dark] .colab-df-convert:hover {\n",
              "      background-color: #434B5C;\n",
              "      box-shadow: 0px 1px 3px 1px rgba(0, 0, 0, 0.15);\n",
              "      filter: drop-shadow(0px 1px 2px rgba(0, 0, 0, 0.3));\n",
              "      fill: #FFFFFF;\n",
              "    }\n",
              "  </style>\n",
              "\n",
              "      <script>\n",
              "        const buttonEl =\n",
              "          document.querySelector('#df-cfe21d9a-3c74-4a11-96de-102213f3b689 button.colab-df-convert');\n",
              "        buttonEl.style.display =\n",
              "          google.colab.kernel.accessAllowed ? 'block' : 'none';\n",
              "\n",
              "        async function convertToInteractive(key) {\n",
              "          const element = document.querySelector('#df-cfe21d9a-3c74-4a11-96de-102213f3b689');\n",
              "          const dataTable =\n",
              "            await google.colab.kernel.invokeFunction('convertToInteractive',\n",
              "                                                     [key], {});\n",
              "          if (!dataTable) return;\n",
              "\n",
              "          const docLinkHtml = 'Like what you see? Visit the ' +\n",
              "            '<a target=\"_blank\" href=https://colab.research.google.com/notebooks/data_table.ipynb>data table notebook</a>'\n",
              "            + ' to learn more about interactive tables.';\n",
              "          element.innerHTML = '';\n",
              "          dataTable['output_type'] = 'display_data';\n",
              "          await google.colab.output.renderOutput(dataTable, element);\n",
              "          const docLink = document.createElement('div');\n",
              "          docLink.innerHTML = docLinkHtml;\n",
              "          element.appendChild(docLink);\n",
              "        }\n",
              "      </script>\n",
              "    </div>\n",
              "  </div>\n",
              "  "
            ],
            "text/plain": [
              "            able  absolutely  abstraction  according  accurate  achievement  \\\n",
              "indiatoday     2           3            0          2         1            0   \n",
              "ndtv           0           0            0          0         0            0   \n",
              "wion           0           0            1          0         0            1   \n",
              "\n",
              "            actually  add  admitted  afraid  ...  world  worse  worsened  \\\n",
              "indiatoday         6    1         0       1  ...      1      1         1   \n",
              "ndtv               0    0         1       0  ...      0      0         0   \n",
              "wion               0    0         0       0  ...      0      0         0   \n",
              "\n",
              "            worsening  worst  wrong  yeah  year  yes  youre  \n",
              "indiatoday          1      2      2     1     0    2      1  \n",
              "ndtv                0      0      0     0     1    0      0  \n",
              "wion                0      0      0     0     0    0      0  \n",
              "\n",
              "[3 rows x 583 columns]"
            ]
          },
          "execution_count": 48,
          "metadata": {},
          "output_type": "execute_result"
        }
      ],
      "source": [
        "import pandas as pd\n",
        "import pickle\n",
        "data = pd.read_pickle('dtm_stop.pkl')\n",
        "data"
      ]
    },
    {
      "cell_type": "code",
      "execution_count": null,
      "metadata": {
        "id": "SGbhcI1kbN6k"
      },
      "outputs": [],
      "source": [
        "from gensim import matutils, models\n",
        "import scipy.sparse"
      ]
    },
    {
      "cell_type": "code",
      "execution_count": null,
      "metadata": {
        "colab": {
          "base_uri": "https://localhost:8080/",
          "height": 206
        },
        "id": "UZj7bNitbR5y",
        "outputId": "b36b2995-9c78-4d4f-ea99-2f86a9637989"
      },
      "outputs": [
        {
          "data": {
            "text/html": [
              "\n",
              "  <div id=\"df-a67973ae-9733-4712-b513-cf280ceb738e\">\n",
              "    <div class=\"colab-df-container\">\n",
              "      <div>\n",
              "<style scoped>\n",
              "    .dataframe tbody tr th:only-of-type {\n",
              "        vertical-align: middle;\n",
              "    }\n",
              "\n",
              "    .dataframe tbody tr th {\n",
              "        vertical-align: top;\n",
              "    }\n",
              "\n",
              "    .dataframe thead th {\n",
              "        text-align: right;\n",
              "    }\n",
              "</style>\n",
              "<table border=\"1\" class=\"dataframe\">\n",
              "  <thead>\n",
              "    <tr style=\"text-align: right;\">\n",
              "      <th></th>\n",
              "      <th>indiatoday</th>\n",
              "      <th>ndtv</th>\n",
              "      <th>wion</th>\n",
              "    </tr>\n",
              "  </thead>\n",
              "  <tbody>\n",
              "    <tr>\n",
              "      <th>able</th>\n",
              "      <td>2</td>\n",
              "      <td>0</td>\n",
              "      <td>0</td>\n",
              "    </tr>\n",
              "    <tr>\n",
              "      <th>absolutely</th>\n",
              "      <td>3</td>\n",
              "      <td>0</td>\n",
              "      <td>0</td>\n",
              "    </tr>\n",
              "    <tr>\n",
              "      <th>abstraction</th>\n",
              "      <td>0</td>\n",
              "      <td>0</td>\n",
              "      <td>1</td>\n",
              "    </tr>\n",
              "    <tr>\n",
              "      <th>according</th>\n",
              "      <td>2</td>\n",
              "      <td>0</td>\n",
              "      <td>0</td>\n",
              "    </tr>\n",
              "    <tr>\n",
              "      <th>accurate</th>\n",
              "      <td>1</td>\n",
              "      <td>0</td>\n",
              "      <td>0</td>\n",
              "    </tr>\n",
              "  </tbody>\n",
              "</table>\n",
              "</div>\n",
              "      <button class=\"colab-df-convert\" onclick=\"convertToInteractive('df-a67973ae-9733-4712-b513-cf280ceb738e')\"\n",
              "              title=\"Convert this dataframe to an interactive table.\"\n",
              "              style=\"display:none;\">\n",
              "        \n",
              "  <svg xmlns=\"http://www.w3.org/2000/svg\" height=\"24px\"viewBox=\"0 0 24 24\"\n",
              "       width=\"24px\">\n",
              "    <path d=\"M0 0h24v24H0V0z\" fill=\"none\"/>\n",
              "    <path d=\"M18.56 5.44l.94 2.06.94-2.06 2.06-.94-2.06-.94-.94-2.06-.94 2.06-2.06.94zm-11 1L8.5 8.5l.94-2.06 2.06-.94-2.06-.94L8.5 2.5l-.94 2.06-2.06.94zm10 10l.94 2.06.94-2.06 2.06-.94-2.06-.94-.94-2.06-.94 2.06-2.06.94z\"/><path d=\"M17.41 7.96l-1.37-1.37c-.4-.4-.92-.59-1.43-.59-.52 0-1.04.2-1.43.59L10.3 9.45l-7.72 7.72c-.78.78-.78 2.05 0 2.83L4 21.41c.39.39.9.59 1.41.59.51 0 1.02-.2 1.41-.59l7.78-7.78 2.81-2.81c.8-.78.8-2.07 0-2.86zM5.41 20L4 18.59l7.72-7.72 1.47 1.35L5.41 20z\"/>\n",
              "  </svg>\n",
              "      </button>\n",
              "      \n",
              "  <style>\n",
              "    .colab-df-container {\n",
              "      display:flex;\n",
              "      flex-wrap:wrap;\n",
              "      gap: 12px;\n",
              "    }\n",
              "\n",
              "    .colab-df-convert {\n",
              "      background-color: #E8F0FE;\n",
              "      border: none;\n",
              "      border-radius: 50%;\n",
              "      cursor: pointer;\n",
              "      display: none;\n",
              "      fill: #1967D2;\n",
              "      height: 32px;\n",
              "      padding: 0 0 0 0;\n",
              "      width: 32px;\n",
              "    }\n",
              "\n",
              "    .colab-df-convert:hover {\n",
              "      background-color: #E2EBFA;\n",
              "      box-shadow: 0px 1px 2px rgba(60, 64, 67, 0.3), 0px 1px 3px 1px rgba(60, 64, 67, 0.15);\n",
              "      fill: #174EA6;\n",
              "    }\n",
              "\n",
              "    [theme=dark] .colab-df-convert {\n",
              "      background-color: #3B4455;\n",
              "      fill: #D2E3FC;\n",
              "    }\n",
              "\n",
              "    [theme=dark] .colab-df-convert:hover {\n",
              "      background-color: #434B5C;\n",
              "      box-shadow: 0px 1px 3px 1px rgba(0, 0, 0, 0.15);\n",
              "      filter: drop-shadow(0px 1px 2px rgba(0, 0, 0, 0.3));\n",
              "      fill: #FFFFFF;\n",
              "    }\n",
              "  </style>\n",
              "\n",
              "      <script>\n",
              "        const buttonEl =\n",
              "          document.querySelector('#df-a67973ae-9733-4712-b513-cf280ceb738e button.colab-df-convert');\n",
              "        buttonEl.style.display =\n",
              "          google.colab.kernel.accessAllowed ? 'block' : 'none';\n",
              "\n",
              "        async function convertToInteractive(key) {\n",
              "          const element = document.querySelector('#df-a67973ae-9733-4712-b513-cf280ceb738e');\n",
              "          const dataTable =\n",
              "            await google.colab.kernel.invokeFunction('convertToInteractive',\n",
              "                                                     [key], {});\n",
              "          if (!dataTable) return;\n",
              "\n",
              "          const docLinkHtml = 'Like what you see? Visit the ' +\n",
              "            '<a target=\"_blank\" href=https://colab.research.google.com/notebooks/data_table.ipynb>data table notebook</a>'\n",
              "            + ' to learn more about interactive tables.';\n",
              "          element.innerHTML = '';\n",
              "          dataTable['output_type'] = 'display_data';\n",
              "          await google.colab.output.renderOutput(dataTable, element);\n",
              "          const docLink = document.createElement('div');\n",
              "          docLink.innerHTML = docLinkHtml;\n",
              "          element.appendChild(docLink);\n",
              "        }\n",
              "      </script>\n",
              "    </div>\n",
              "  </div>\n",
              "  "
            ],
            "text/plain": [
              "             indiatoday  ndtv  wion\n",
              "able                  2     0     0\n",
              "absolutely            3     0     0\n",
              "abstraction           0     0     1\n",
              "according             2     0     0\n",
              "accurate              1     0     0"
            ]
          },
          "execution_count": 50,
          "metadata": {},
          "output_type": "execute_result"
        }
      ],
      "source": [
        "tdm = data.transpose()\n",
        "tdm.head()"
      ]
    },
    {
      "cell_type": "code",
      "execution_count": null,
      "metadata": {
        "id": "JNs62KiUbVoa"
      },
      "outputs": [],
      "source": [
        "sparse_counts = scipy.sparse.csr_matrix(tdm)\n",
        "corpus = matutils.Sparse2Corpus(sparse_counts)"
      ]
    },
    {
      "cell_type": "code",
      "execution_count": null,
      "metadata": {
        "id": "MUX42a1jbaI9"
      },
      "outputs": [],
      "source": [
        "cv = pickle.load(open(\"cv_stop.pkl\", \"rb\"))\n",
        "id2word = dict((v, k) for k, v in cv.vocabulary_.items())"
      ]
    },
    {
      "cell_type": "code",
      "execution_count": null,
      "metadata": {
        "colab": {
          "base_uri": "https://localhost:8080/"
        },
        "id": "2Sdlq_5kbdnR",
        "outputId": "11abd7c2-f83a-4a49-a3db-d14cc04f14e3"
      },
      "outputs": [
        {
          "data": {
            "text/plain": [
              "[(0,\n",
              "  '0.014*\"minister\" + 0.014*\"chief\" + 0.010*\"group\" + 0.008*\"support\" + 0.008*\"demands\" + 0.008*\"means\" + 0.008*\"general\" + 0.006*\"tamil\" + 0.006*\"said\" + 0.006*\"things\"'),\n",
              " (1,\n",
              "  '0.018*\"hospital\" + 0.016*\"know\" + 0.016*\"people\" + 0.016*\"just\" + 0.011*\"right\" + 0.009*\"minister\" + 0.008*\"chief\" + 0.008*\"feel\" + 0.007*\"emotions\" + 0.006*\"thats\"')]"
            ]
          },
          "execution_count": 53,
          "metadata": {},
          "output_type": "execute_result"
        }
      ],
      "source": [
        "lda = models.LdaModel(corpus=corpus, id2word=id2word, num_topics=2, passes=10)\n",
        "lda.print_topics()"
      ]
    },
    {
      "cell_type": "code",
      "execution_count": null,
      "metadata": {
        "colab": {
          "base_uri": "https://localhost:8080/"
        },
        "id": "3NNQHJ9TbifQ",
        "outputId": "b07e5a9c-bb50-40a2-cd79-3371418df7b6"
      },
      "outputs": [
        {
          "data": {
            "text/plain": [
              "[(0,\n",
              "  '0.021*\"know\" + 0.020*\"just\" + 0.019*\"people\" + 0.017*\"hospital\" + 0.014*\"right\" + 0.010*\"feel\" + 0.009*\"emotions\" + 0.008*\"chief\" + 0.008*\"situation\" + 0.008*\"apollo\"'),\n",
              " (1,\n",
              "  '0.018*\"minister\" + 0.018*\"chief\" + 0.012*\"group\" + 0.009*\"general\" + 0.009*\"means\" + 0.009*\"demands\" + 0.009*\"support\" + 0.007*\"death\" + 0.007*\"state\" + 0.007*\"want\"'),\n",
              " (2,\n",
              "  '0.020*\"minister\" + 0.017*\"hospital\" + 0.012*\"did\" + 0.009*\"death\" + 0.009*\"saw\" + 0.006*\"chief\" + 0.006*\"ministers\" + 0.006*\"said\" + 0.006*\"time\" + 0.006*\"party\"')]"
            ]
          },
          "execution_count": 54,
          "metadata": {},
          "output_type": "execute_result"
        }
      ],
      "source": [
        "lda = models.LdaModel(corpus=corpus, id2word=id2word, num_topics=3, passes=10)\n",
        "lda.print_topics()\n"
      ]
    },
    {
      "cell_type": "code",
      "execution_count": null,
      "metadata": {
        "colab": {
          "base_uri": "https://localhost:8080/"
        },
        "id": "iHqJeaQrbkLG",
        "outputId": "cd8bb48c-ee0e-4add-e6c7-2f488949fbdf"
      },
      "outputs": [
        {
          "data": {
            "text/plain": [
              "[(0,\n",
              "  '0.002*\"hospital\" + 0.002*\"people\" + 0.002*\"know\" + 0.002*\"just\" + 0.002*\"right\" + 0.002*\"feel\" + 0.002*\"apollo\" + 0.002*\"chief\" + 0.002*\"situation\" + 0.002*\"police\"'),\n",
              " (1,\n",
              "  '0.023*\"know\" + 0.022*\"just\" + 0.020*\"people\" + 0.018*\"hospital\" + 0.016*\"right\" + 0.011*\"feel\" + 0.010*\"emotions\" + 0.009*\"chief\" + 0.009*\"apollo\" + 0.009*\"channels\"'),\n",
              " (2,\n",
              "  '0.003*\"hospital\" + 0.003*\"know\" + 0.003*\"people\" + 0.002*\"just\" + 0.002*\"right\" + 0.002*\"feel\" + 0.002*\"passed\" + 0.002*\"situation\" + 0.002*\"news\" + 0.002*\"emotions\"'),\n",
              " (3,\n",
              "  '0.030*\"minister\" + 0.018*\"chief\" + 0.014*\"hospital\" + 0.012*\"death\" + 0.009*\"said\" + 0.009*\"group\" + 0.009*\"saw\" + 0.009*\"did\" + 0.007*\"tamil\" + 0.007*\"support\"'),\n",
              " (4,\n",
              "  '0.002*\"know\" + 0.002*\"just\" + 0.002*\"right\" + 0.002*\"hospital\" + 0.002*\"people\" + 0.002*\"chief\" + 0.002*\"situation\" + 0.002*\"news\" + 0.002*\"thats\" + 0.002*\"minister\"')]"
            ]
          },
          "execution_count": 55,
          "metadata": {},
          "output_type": "execute_result"
        }
      ],
      "source": [
        "lda = models.LdaModel(corpus=corpus, id2word=id2word, num_topics=5, passes=10)\n",
        "lda.print_topics()"
      ]
    },
    {
      "cell_type": "code",
      "execution_count": null,
      "metadata": {
        "id": "O20TgH8yOzI2"
      },
      "outputs": [],
      "source": [
        "from nltk import word_tokenize, pos_tag"
      ]
    },
    {
      "cell_type": "markdown",
      "metadata": {
        "id": "hcNTas5EL5bG"
      },
      "source": []
    },
    {
      "cell_type": "markdown",
      "metadata": {
        "id": "uFLIgn_yL-IA"
      },
      "source": [
        "# New Section"
      ]
    },
    {
      "cell_type": "code",
      "execution_count": null,
      "metadata": {
        "id": "11qvFnEDbnO_"
      },
      "outputs": [],
      "source": [
        "def nouns_adj(text):\n",
        "  '''Given a string of text, tokenize the text and pull out only the nouns and adjectives.'''\n",
        "  is_noun_adj = lambda pos: pos[:2] == 'NN' or pos[:2] == 'JJ'\n",
        "  tokenized = word_tokenize(text)\n",
        "  nouns_adj = [word for (word, pos) in pos_tag(tokenized) if is_noun_adj(pos)]\n",
        "  return ' '.join(nouns_adj)\n"
      ]
    },
    {
      "cell_type": "code",
      "execution_count": null,
      "metadata": {
        "colab": {
          "base_uri": "https://localhost:8080/",
          "height": 239
        },
        "id": "1GbikUJ7b5LU",
        "outputId": "0bee32ae-3b76-49a6-81e2-ef1d8c6e156b"
      },
      "outputs": [
        {
          "data": {
            "text/html": [
              "\n",
              "  <div id=\"df-5924d0f3-51f8-4d57-822b-396e03b5de55\">\n",
              "    <div class=\"colab-df-container\">\n",
              "      <div>\n",
              "<style scoped>\n",
              "    .dataframe tbody tr th:only-of-type {\n",
              "        vertical-align: middle;\n",
              "    }\n",
              "\n",
              "    .dataframe tbody tr th {\n",
              "        vertical-align: top;\n",
              "    }\n",
              "\n",
              "    .dataframe thead th {\n",
              "        text-align: right;\n",
              "    }\n",
              "</style>\n",
              "<table border=\"1\" class=\"dataframe\">\n",
              "  <thead>\n",
              "    <tr style=\"text-align: right;\">\n",
              "      <th></th>\n",
              "      <th>transcript</th>\n",
              "    </tr>\n",
              "  </thead>\n",
              "  <tbody>\n",
              "    <tr>\n",
              "      <th>indiatoday</th>\n",
              "      <td>okay were getting in some news that\\rthere are reports that suggest j\\rlalitas health to be worsening now\\raccording to two tunnel channels they\\r...</td>\n",
              "    </tr>\n",
              "    <tr>\n",
              "      <th>ndtv</th>\n",
              "      <td>now last week a minister from tamilnadu\\rconfessed that he and his colleagues\\rlied about gelas health none saw her but\\rthey said they spent stor...</td>\n",
              "    </tr>\n",
              "    <tr>\n",
              "      <th>wion</th>\n",
              "      <td>\\r\\rhe was coming in from in there in the\\r\\rstate of tamil nadu where chief minister\\r\\ri palani saw me and said that inquiry\\r\\rcommission will ...</td>\n",
              "    </tr>\n",
              "  </tbody>\n",
              "</table>\n",
              "</div>\n",
              "      <button class=\"colab-df-convert\" onclick=\"convertToInteractive('df-5924d0f3-51f8-4d57-822b-396e03b5de55')\"\n",
              "              title=\"Convert this dataframe to an interactive table.\"\n",
              "              style=\"display:none;\">\n",
              "        \n",
              "  <svg xmlns=\"http://www.w3.org/2000/svg\" height=\"24px\"viewBox=\"0 0 24 24\"\n",
              "       width=\"24px\">\n",
              "    <path d=\"M0 0h24v24H0V0z\" fill=\"none\"/>\n",
              "    <path d=\"M18.56 5.44l.94 2.06.94-2.06 2.06-.94-2.06-.94-.94-2.06-.94 2.06-2.06.94zm-11 1L8.5 8.5l.94-2.06 2.06-.94-2.06-.94L8.5 2.5l-.94 2.06-2.06.94zm10 10l.94 2.06.94-2.06 2.06-.94-2.06-.94-.94-2.06-.94 2.06-2.06.94z\"/><path d=\"M17.41 7.96l-1.37-1.37c-.4-.4-.92-.59-1.43-.59-.52 0-1.04.2-1.43.59L10.3 9.45l-7.72 7.72c-.78.78-.78 2.05 0 2.83L4 21.41c.39.39.9.59 1.41.59.51 0 1.02-.2 1.41-.59l7.78-7.78 2.81-2.81c.8-.78.8-2.07 0-2.86zM5.41 20L4 18.59l7.72-7.72 1.47 1.35L5.41 20z\"/>\n",
              "  </svg>\n",
              "      </button>\n",
              "      \n",
              "  <style>\n",
              "    .colab-df-container {\n",
              "      display:flex;\n",
              "      flex-wrap:wrap;\n",
              "      gap: 12px;\n",
              "    }\n",
              "\n",
              "    .colab-df-convert {\n",
              "      background-color: #E8F0FE;\n",
              "      border: none;\n",
              "      border-radius: 50%;\n",
              "      cursor: pointer;\n",
              "      display: none;\n",
              "      fill: #1967D2;\n",
              "      height: 32px;\n",
              "      padding: 0 0 0 0;\n",
              "      width: 32px;\n",
              "    }\n",
              "\n",
              "    .colab-df-convert:hover {\n",
              "      background-color: #E2EBFA;\n",
              "      box-shadow: 0px 1px 2px rgba(60, 64, 67, 0.3), 0px 1px 3px 1px rgba(60, 64, 67, 0.15);\n",
              "      fill: #174EA6;\n",
              "    }\n",
              "\n",
              "    [theme=dark] .colab-df-convert {\n",
              "      background-color: #3B4455;\n",
              "      fill: #D2E3FC;\n",
              "    }\n",
              "\n",
              "    [theme=dark] .colab-df-convert:hover {\n",
              "      background-color: #434B5C;\n",
              "      box-shadow: 0px 1px 3px 1px rgba(0, 0, 0, 0.15);\n",
              "      filter: drop-shadow(0px 1px 2px rgba(0, 0, 0, 0.3));\n",
              "      fill: #FFFFFF;\n",
              "    }\n",
              "  </style>\n",
              "\n",
              "      <script>\n",
              "        const buttonEl =\n",
              "          document.querySelector('#df-5924d0f3-51f8-4d57-822b-396e03b5de55 button.colab-df-convert');\n",
              "        buttonEl.style.display =\n",
              "          google.colab.kernel.accessAllowed ? 'block' : 'none';\n",
              "\n",
              "        async function convertToInteractive(key) {\n",
              "          const element = document.querySelector('#df-5924d0f3-51f8-4d57-822b-396e03b5de55');\n",
              "          const dataTable =\n",
              "            await google.colab.kernel.invokeFunction('convertToInteractive',\n",
              "                                                     [key], {});\n",
              "          if (!dataTable) return;\n",
              "\n",
              "          const docLinkHtml = 'Like what you see? Visit the ' +\n",
              "            '<a target=\"_blank\" href=https://colab.research.google.com/notebooks/data_table.ipynb>data table notebook</a>'\n",
              "            + ' to learn more about interactive tables.';\n",
              "          element.innerHTML = '';\n",
              "          dataTable['output_type'] = 'display_data';\n",
              "          await google.colab.output.renderOutput(dataTable, element);\n",
              "          const docLink = document.createElement('div');\n",
              "          docLink.innerHTML = docLinkHtml;\n",
              "          element.appendChild(docLink);\n",
              "        }\n",
              "      </script>\n",
              "    </div>\n",
              "  </div>\n",
              "  "
            ],
            "text/plain": [
              "                                                                                                                                                       transcript\n",
              "indiatoday  okay were getting in some news that\\rthere are reports that suggest j\\rlalitas health to be worsening now\\raccording to two tunnel channels they\\r...\n",
              "ndtv        now last week a minister from tamilnadu\\rconfessed that he and his colleagues\\rlied about gelas health none saw her but\\rthey said they spent stor...\n",
              "wion        \\r\\rhe was coming in from in there in the\\r\\rstate of tamil nadu where chief minister\\r\\ri palani saw me and said that inquiry\\r\\rcommission will ..."
            ]
          },
          "execution_count": 58,
          "metadata": {},
          "output_type": "execute_result"
        }
      ],
      "source": [
        "data_clean = pd.read_pickle('data_clean.pkl')\n",
        "data_clean"
      ]
    },
    {
      "cell_type": "code",
      "execution_count": null,
      "metadata": {
        "colab": {
          "base_uri": "https://localhost:8080/"
        },
        "id": "Zxjli1DicGvx",
        "outputId": "9b47909e-fd3d-471c-d14d-23435ee0e696"
      },
      "outputs": [
        {
          "name": "stderr",
          "output_type": "stream",
          "text": [
            "[nltk_data] Downloading package punkt to /root/nltk_data...\n",
            "[nltk_data]   Unzipping tokenizers/punkt.zip.\n",
            "[nltk_data] Downloading package averaged_perceptron_tagger to\n",
            "[nltk_data]     /root/nltk_data...\n",
            "[nltk_data]   Unzipping taggers/averaged_perceptron_tagger.zip.\n"
          ]
        },
        {
          "data": {
            "text/plain": [
              "True"
            ]
          },
          "execution_count": 59,
          "metadata": {},
          "output_type": "execute_result"
        }
      ],
      "source": [
        "import nltk\n",
        "nltk.download('punkt')\n",
        "nltk.download('averaged_perceptron_tagger')\n"
      ]
    },
    {
      "cell_type": "code",
      "execution_count": null,
      "metadata": {
        "colab": {
          "base_uri": "https://localhost:8080/",
          "height": 239
        },
        "id": "KnBzfCOsdUCZ",
        "outputId": "d4fd018a-272e-4995-8f31-7d4ff61d7c2c"
      },
      "outputs": [
        {
          "data": {
            "text/html": [
              "\n",
              "  <div id=\"df-14b6956f-d5aa-4042-98fa-922a270470f0\">\n",
              "    <div class=\"colab-df-container\">\n",
              "      <div>\n",
              "<style scoped>\n",
              "    .dataframe tbody tr th:only-of-type {\n",
              "        vertical-align: middle;\n",
              "    }\n",
              "\n",
              "    .dataframe tbody tr th {\n",
              "        vertical-align: top;\n",
              "    }\n",
              "\n",
              "    .dataframe thead th {\n",
              "        text-align: right;\n",
              "    }\n",
              "</style>\n",
              "<table border=\"1\" class=\"dataframe\">\n",
              "  <thead>\n",
              "    <tr style=\"text-align: right;\">\n",
              "      <th></th>\n",
              "      <th>transcript</th>\n",
              "    </tr>\n",
              "  </thead>\n",
              "  <tbody>\n",
              "    <tr>\n",
              "      <th>indiatoday</th>\n",
              "      <td>okay news reports j lalitas health tunnel channels j chief minister tamil nadu thats reports channels state reports chief ministers death apollo h...</td>\n",
              "    </tr>\n",
              "    <tr>\n",
              "      <th>ndtv</th>\n",
              "      <td>last week minister tamilnadu colleagues gelas health none stories atleast hospital minister i claims joella littles death state government oneman ...</td>\n",
              "    </tr>\n",
              "    <tr>\n",
              "      <th>wion</th>\n",
              "      <td>state tamil nadu chief minister i inquiry commission trial judge death former chief minister j jayalalithaa hes post garden house memorial latest ...</td>\n",
              "    </tr>\n",
              "  </tbody>\n",
              "</table>\n",
              "</div>\n",
              "      <button class=\"colab-df-convert\" onclick=\"convertToInteractive('df-14b6956f-d5aa-4042-98fa-922a270470f0')\"\n",
              "              title=\"Convert this dataframe to an interactive table.\"\n",
              "              style=\"display:none;\">\n",
              "        \n",
              "  <svg xmlns=\"http://www.w3.org/2000/svg\" height=\"24px\"viewBox=\"0 0 24 24\"\n",
              "       width=\"24px\">\n",
              "    <path d=\"M0 0h24v24H0V0z\" fill=\"none\"/>\n",
              "    <path d=\"M18.56 5.44l.94 2.06.94-2.06 2.06-.94-2.06-.94-.94-2.06-.94 2.06-2.06.94zm-11 1L8.5 8.5l.94-2.06 2.06-.94-2.06-.94L8.5 2.5l-.94 2.06-2.06.94zm10 10l.94 2.06.94-2.06 2.06-.94-2.06-.94-.94-2.06-.94 2.06-2.06.94z\"/><path d=\"M17.41 7.96l-1.37-1.37c-.4-.4-.92-.59-1.43-.59-.52 0-1.04.2-1.43.59L10.3 9.45l-7.72 7.72c-.78.78-.78 2.05 0 2.83L4 21.41c.39.39.9.59 1.41.59.51 0 1.02-.2 1.41-.59l7.78-7.78 2.81-2.81c.8-.78.8-2.07 0-2.86zM5.41 20L4 18.59l7.72-7.72 1.47 1.35L5.41 20z\"/>\n",
              "  </svg>\n",
              "      </button>\n",
              "      \n",
              "  <style>\n",
              "    .colab-df-container {\n",
              "      display:flex;\n",
              "      flex-wrap:wrap;\n",
              "      gap: 12px;\n",
              "    }\n",
              "\n",
              "    .colab-df-convert {\n",
              "      background-color: #E8F0FE;\n",
              "      border: none;\n",
              "      border-radius: 50%;\n",
              "      cursor: pointer;\n",
              "      display: none;\n",
              "      fill: #1967D2;\n",
              "      height: 32px;\n",
              "      padding: 0 0 0 0;\n",
              "      width: 32px;\n",
              "    }\n",
              "\n",
              "    .colab-df-convert:hover {\n",
              "      background-color: #E2EBFA;\n",
              "      box-shadow: 0px 1px 2px rgba(60, 64, 67, 0.3), 0px 1px 3px 1px rgba(60, 64, 67, 0.15);\n",
              "      fill: #174EA6;\n",
              "    }\n",
              "\n",
              "    [theme=dark] .colab-df-convert {\n",
              "      background-color: #3B4455;\n",
              "      fill: #D2E3FC;\n",
              "    }\n",
              "\n",
              "    [theme=dark] .colab-df-convert:hover {\n",
              "      background-color: #434B5C;\n",
              "      box-shadow: 0px 1px 3px 1px rgba(0, 0, 0, 0.15);\n",
              "      filter: drop-shadow(0px 1px 2px rgba(0, 0, 0, 0.3));\n",
              "      fill: #FFFFFF;\n",
              "    }\n",
              "  </style>\n",
              "\n",
              "      <script>\n",
              "        const buttonEl =\n",
              "          document.querySelector('#df-14b6956f-d5aa-4042-98fa-922a270470f0 button.colab-df-convert');\n",
              "        buttonEl.style.display =\n",
              "          google.colab.kernel.accessAllowed ? 'block' : 'none';\n",
              "\n",
              "        async function convertToInteractive(key) {\n",
              "          const element = document.querySelector('#df-14b6956f-d5aa-4042-98fa-922a270470f0');\n",
              "          const dataTable =\n",
              "            await google.colab.kernel.invokeFunction('convertToInteractive',\n",
              "                                                     [key], {});\n",
              "          if (!dataTable) return;\n",
              "\n",
              "          const docLinkHtml = 'Like what you see? Visit the ' +\n",
              "            '<a target=\"_blank\" href=https://colab.research.google.com/notebooks/data_table.ipynb>data table notebook</a>'\n",
              "            + ' to learn more about interactive tables.';\n",
              "          element.innerHTML = '';\n",
              "          dataTable['output_type'] = 'display_data';\n",
              "          await google.colab.output.renderOutput(dataTable, element);\n",
              "          const docLink = document.createElement('div');\n",
              "          docLink.innerHTML = docLinkHtml;\n",
              "          element.appendChild(docLink);\n",
              "        }\n",
              "      </script>\n",
              "    </div>\n",
              "  </div>\n",
              "  "
            ],
            "text/plain": [
              "                                                                                                                                                       transcript\n",
              "indiatoday  okay news reports j lalitas health tunnel channels j chief minister tamil nadu thats reports channels state reports chief ministers death apollo h...\n",
              "ndtv        last week minister tamilnadu colleagues gelas health none stories atleast hospital minister i claims joella littles death state government oneman ...\n",
              "wion        state tamil nadu chief minister i inquiry commission trial judge death former chief minister j jayalalithaa hes post garden house memorial latest ..."
            ]
          },
          "execution_count": 60,
          "metadata": {},
          "output_type": "execute_result"
        }
      ],
      "source": [
        "data_nouns_adj = pd.DataFrame(data_clean.transcript.apply(nouns_adj))\n",
        "data_nouns_adj"
      ]
    },
    {
      "cell_type": "code",
      "execution_count": null,
      "metadata": {
        "id": "UElsYVo-dEEu"
      },
      "outputs": [],
      "source": [
        "from nltk.corpus import stopwords\n",
        "add_stop_words = set(stopwords.words('english'))"
      ]
    },
    {
      "cell_type": "code",
      "execution_count": null,
      "metadata": {
        "colab": {
          "base_uri": "https://localhost:8080/",
          "height": 235
        },
        "id": "OzzMb2gFdI99",
        "outputId": "76dad4d8-8755-4e5a-c56c-d9ec1967a30b"
      },
      "outputs": [
        {
          "ename": "AttributeError",
          "evalue": "ignored",
          "output_type": "error",
          "traceback": [
            "\u001b[0;31m---------------------------------------------------------------------------\u001b[0m",
            "\u001b[0;31mAttributeError\u001b[0m                            Traceback (most recent call last)",
            "\u001b[0;32m<ipython-input-63-ea2fe773188b>\u001b[0m in \u001b[0;36m<cell line: 9>\u001b[0;34m()\u001b[0m\n\u001b[1;32m      7\u001b[0m \u001b[0mcvna\u001b[0m \u001b[0;34m=\u001b[0m \u001b[0mCountVectorizer\u001b[0m\u001b[0;34m(\u001b[0m\u001b[0mstop_words\u001b[0m\u001b[0;34m=\u001b[0m\u001b[0;34m'english'\u001b[0m\u001b[0;34m,\u001b[0m \u001b[0mmax_df\u001b[0m\u001b[0;34m=\u001b[0m\u001b[0;36m.8\u001b[0m\u001b[0;34m)\u001b[0m\u001b[0;34m\u001b[0m\u001b[0;34m\u001b[0m\u001b[0m\n\u001b[1;32m      8\u001b[0m \u001b[0mdata_cvna\u001b[0m \u001b[0;34m=\u001b[0m \u001b[0mcvna\u001b[0m\u001b[0;34m.\u001b[0m\u001b[0mfit_transform\u001b[0m\u001b[0;34m(\u001b[0m\u001b[0mdata_nouns_adj\u001b[0m\u001b[0;34m.\u001b[0m\u001b[0mtranscript\u001b[0m\u001b[0;34m)\u001b[0m\u001b[0;34m\u001b[0m\u001b[0;34m\u001b[0m\u001b[0m\n\u001b[0;32m----> 9\u001b[0;31m \u001b[0mdata_dtmna\u001b[0m \u001b[0;34m=\u001b[0m \u001b[0mpd\u001b[0m\u001b[0;34m.\u001b[0m\u001b[0mDataFrame\u001b[0m\u001b[0;34m(\u001b[0m\u001b[0mdata_cvna\u001b[0m\u001b[0;34m.\u001b[0m\u001b[0mtoarray\u001b[0m\u001b[0;34m(\u001b[0m\u001b[0;34m)\u001b[0m\u001b[0;34m,\u001b[0m \u001b[0mcolumns\u001b[0m\u001b[0;34m=\u001b[0m\u001b[0mcvna\u001b[0m\u001b[0;34m.\u001b[0m\u001b[0mget_feature_names\u001b[0m\u001b[0;34m(\u001b[0m\u001b[0;34m)\u001b[0m\u001b[0;34m)\u001b[0m\u001b[0;34m\u001b[0m\u001b[0;34m\u001b[0m\u001b[0m\n\u001b[0m\u001b[1;32m     10\u001b[0m \u001b[0mdata_dtmna\u001b[0m\u001b[0;34m.\u001b[0m\u001b[0mindex\u001b[0m \u001b[0;34m=\u001b[0m \u001b[0mdata_nouns_adj\u001b[0m\u001b[0;34m.\u001b[0m\u001b[0mindex\u001b[0m\u001b[0;34m\u001b[0m\u001b[0;34m\u001b[0m\u001b[0m\n\u001b[1;32m     11\u001b[0m \u001b[0mdata_dtmna\u001b[0m\u001b[0;34m\u001b[0m\u001b[0;34m\u001b[0m\u001b[0m\n",
            "\u001b[0;31mAttributeError\u001b[0m: 'CountVectorizer' object has no attribute 'get_feature_names'"
          ]
        }
      ],
      "source": [
        "# Create a new document-term matrix using only nouns and adjectives\n",
        "from sklearn.feature_extraction import text\n",
        "from sklearn.feature_extraction.text import CountVectorizer\n",
        "# Re-add the additional stop words since we are recreating the document-term matrix\n",
        "stop_words = text.ENGLISH_STOP_WORDS.union(add_stop_words)\n",
        "# Recreate a document-term matrix with only nouns and adjectives\n",
        "cvna = CountVectorizer(stop_words='english', max_df=.8)\n",
        "data_cvna = cvna.fit_transform(data_nouns_adj.transcript)\n",
        "data_dtmna = pd.DataFrame(data_cvna.toarray(), columns=cvna.get_feature_names_out())\n",
        "data_dtmna.index = data_nouns_adj.index\n",
        "data_dtmna"
      ]
    },
    {
      "cell_type": "code",
      "execution_count": null,
      "metadata": {
        "id": "EJhhWiChP-7e"
      },
      "outputs": [],
      "source": [
        "# Create the gensim corpus\n",
        "corpusna = matutils.Sparse2Corpus(scipy.sparse.csr_matrix(data_dtmna.transpose()))\n"
      ]
    },
    {
      "cell_type": "code",
      "execution_count": null,
      "metadata": {
        "id": "AUF23sS3QChE"
      },
      "outputs": [],
      "source": [
        "# Create the vocabulary dictionary\n",
        "id2wordna = dict((v, k) for k, v in cvna.vocabulary_.items())"
      ]
    },
    {
      "cell_type": "code",
      "execution_count": null,
      "metadata": {
        "colab": {
          "base_uri": "https://localhost:8080/"
        },
        "id": "ourqNwbUQFmq",
        "outputId": "5e2f213b-e02d-41be-915d-ffb6f5b73d33"
      },
      "outputs": [
        {
          "data": {
            "text/plain": [
              "[(0,\n",
              "  '0.015*\"group\" + 0.012*\"general\" + 0.012*\"demands\" + 0.008*\"nadu\" + 0.008*\"point\" + 0.008*\"things\" + 0.008*\"support\" + 0.008*\"moment\" + 0.008*\"secretary\" + 0.008*\"demand\"'),\n",
              " (1,\n",
              "  '0.030*\"hospital\" + 0.026*\"people\" + 0.012*\"emotions\" + 0.011*\"right\" + 0.011*\"situation\" + 0.011*\"channels\" + 0.009*\"ministers\" + 0.009*\"police\" + 0.009*\"news\" + 0.009*\"today\"')]"
            ]
          },
          "execution_count": 43,
          "metadata": {},
          "output_type": "execute_result"
        }
      ],
      "source": [
        "# Let's start with 2 topics\n",
        "ldana = models.LdaModel(corpus=corpusna, num_topics=2, id2word=id2wordna,\n",
        "passes=10)\n",
        "ldana.print_topics()"
      ]
    },
    {
      "cell_type": "code",
      "execution_count": null,
      "metadata": {
        "colab": {
          "base_uri": "https://localhost:8080/"
        },
        "id": "3PvwCt6GQPVz",
        "outputId": "2f5145c9-f8cb-4723-e9aa-41c8ea7048ee"
      },
      "outputs": [
        {
          "data": {
            "text/plain": [
              "[(0,\n",
              "  '0.019*\"group\" + 0.015*\"general\" + 0.015*\"demands\" + 0.010*\"things\" + 0.010*\"support\" + 0.010*\"moment\" + 0.010*\"statement\" + 0.010*\"point\" + 0.010*\"nadu\" + 0.010*\"secretary\"'),\n",
              " (1,\n",
              "  '0.027*\"hospital\" + 0.010*\"ministers\" + 0.010*\"health\" + 0.010*\"time\" + 0.010*\"government\" + 0.010*\"joy\" + 0.010*\"cabinet\" + 0.006*\"people\" + 0.006*\"reports\" + 0.006*\"official\"'),\n",
              " (2,\n",
              "  '0.032*\"people\" + 0.028*\"hospital\" + 0.015*\"emotions\" + 0.014*\"right\" + 0.014*\"channels\" + 0.014*\"situation\" + 0.012*\"police\" + 0.012*\"news\" + 0.012*\"today\" + 0.012*\"apollo\"')]"
            ]
          },
          "execution_count": 44,
          "metadata": {},
          "output_type": "execute_result"
        }
      ],
      "source": [
        "ldana = models.LdaModel(corpus=corpusna, num_topics=3, id2word=id2wordna,\n",
        "passes=10)\n",
        "ldana.print_topics()\n"
      ]
    },
    {
      "cell_type": "code",
      "execution_count": null,
      "metadata": {
        "colab": {
          "base_uri": "https://localhost:8080/"
        },
        "id": "VLx-00diQVhw",
        "outputId": "4799846a-6157-4f95-bd5a-30c65cb6539c"
      },
      "outputs": [
        {
          "data": {
            "text/plain": [
              "[(0,\n",
              "  '0.003*\"people\" + 0.003*\"hospital\" + 0.003*\"channels\" + 0.003*\"emotions\" + 0.003*\"police\" + 0.003*\"news\" + 0.003*\"apollo\" + 0.003*\"official\" + 0.003*\"situation\" + 0.003*\"health\"'),\n",
              " (1,\n",
              "  '0.021*\"hospital\" + 0.014*\"group\" + 0.011*\"demands\" + 0.011*\"general\" + 0.011*\"government\" + 0.008*\"things\" + 0.008*\"nadu\" + 0.008*\"support\" + 0.008*\"ministers\" + 0.008*\"point\"'),\n",
              " (2,\n",
              "  '0.003*\"hospital\" + 0.003*\"people\" + 0.003*\"situation\" + 0.003*\"channels\" + 0.003*\"right\" + 0.003*\"emotions\" + 0.003*\"police\" + 0.003*\"ministers\" + 0.003*\"official\" + 0.003*\"reports\"'),\n",
              " (3,\n",
              "  '0.034*\"people\" + 0.030*\"hospital\" + 0.016*\"emotions\" + 0.014*\"right\" + 0.014*\"situation\" + 0.014*\"channels\" + 0.012*\"today\" + 0.012*\"apollo\" + 0.012*\"news\" + 0.012*\"police\"')]"
            ]
          },
          "execution_count": 45,
          "metadata": {},
          "output_type": "execute_result"
        }
      ],
      "source": [
        "ldana = models.LdaModel(corpus=corpusna, num_topics=4, id2word=id2wordna,\n",
        "passes=10)\n",
        "ldana.print_topics()\n"
      ]
    },
    {
      "cell_type": "code",
      "execution_count": null,
      "metadata": {
        "colab": {
          "base_uri": "https://localhost:8080/"
        },
        "id": "O_AmJ6HQQdtc",
        "outputId": "7481e643-20e2-4ec7-844f-077d56778ea0"
      },
      "outputs": [
        {
          "data": {
            "text/plain": [
              "[(0,\n",
              "  '0.016*\"hospital\" + 0.011*\"group\" + 0.009*\"demands\" + 0.009*\"general\" + 0.009*\"government\" + 0.006*\"point\" + 0.006*\"statement\" + 0.006*\"moment\" + 0.006*\"gop\" + 0.006*\"latest\"'),\n",
              " (1,\n",
              "  '0.029*\"people\" + 0.026*\"hospital\" + 0.014*\"emotions\" + 0.012*\"right\" + 0.012*\"situation\" + 0.012*\"channels\" + 0.011*\"apollo\" + 0.011*\"news\" + 0.011*\"police\" + 0.011*\"today\"')]"
            ]
          },
          "execution_count": 46,
          "metadata": {},
          "output_type": "execute_result"
        }
      ],
      "source": [
        "ldana = models.LdaModel(corpus=corpusna, num_topics=2, id2word=id2wordna,\n",
        "passes=80)\n",
        "ldana.print_topics()"
      ]
    },
    {
      "cell_type": "code",
      "execution_count": null,
      "metadata": {
        "colab": {
          "base_uri": "https://localhost:8080/"
        },
        "id": "POB2w3IVQw_y",
        "outputId": "b1368d42-dda6-4183-9b94-a3bccce07923"
      },
      "outputs": [
        {
          "data": {
            "text/plain": [
              "[(1, 'indiatoday'), (0, 'ndtv'), (0, 'wion')]"
            ]
          },
          "execution_count": 47,
          "metadata": {},
          "output_type": "execute_result"
        }
      ],
      "source": [
        "corpus_transformed = ldana[corpusna]\n",
        "list(zip([a for [(a,b)] in corpus_transformed], data_dtmna.index))"
      ]
    }
  ],
  "metadata": {
    "colab": {
      "provenance": []
    },
    "kernelspec": {
      "display_name": "Python 3",
      "name": "python3"
    },
    "language_info": {
      "name": "python"
    }
  },
  "nbformat": 4,
  "nbformat_minor": 0
}